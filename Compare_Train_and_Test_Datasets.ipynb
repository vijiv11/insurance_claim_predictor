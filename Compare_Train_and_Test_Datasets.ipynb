{
 "cells": [
  {
   "cell_type": "code",
   "execution_count": 1,
   "metadata": {},
   "outputs": [],
   "source": [
    "import pandas as pd\n",
    "import numpy as np\n",
    "from sklearn.ensemble import RandomForestClassifier\n",
    "from sklearn.model_selection import StratifiedKFold\n",
    "from sklearn.metrics import roc_auc_score\n",
    "from sklearn import preprocessing\n",
    "label_encoder = preprocessing.LabelEncoder()\n",
    "from sklearn.linear_model import LogisticRegression\n",
    "from sklearn.metrics import log_loss"
   ]
  },
  {
   "cell_type": "code",
   "execution_count": 81,
   "metadata": {},
   "outputs": [],
   "source": [
    "train_df = pd.read_csv('AnalyticsOlympiad2022Data/train.csv')\n",
    "test_df = pd.read_csv('AnalyticsOlympiad2022Data/test.csv')\n",
    "submission_df = pd.read_csv('AnalyticsOlympiad2022Data/submission.csv')"
   ]
  },
  {
   "cell_type": "markdown",
   "metadata": {},
   "source": [
    "## 1. Label encoding for all categorical columns:\n",
    "\n",
    "(fit_transform is applied for both dataframes)"
   ]
  },
  {
   "cell_type": "code",
   "execution_count": null,
   "metadata": {},
   "outputs": [],
   "source": [
    "# Encode labels in column.\n",
    "def encode_fn(col):\n",
    "    train_df[col]= label_encoder.fit_transform(train_df[col])\n",
    "    test_df[col]= label_encoder.fit_transform(test_df[col])"
   ]
  },
  {
   "cell_type": "code",
   "execution_count": null,
   "metadata": {},
   "outputs": [],
   "source": [
    "## Label encode all the categorical columns\n",
    "encode_fn('AGE')\n",
    "encode_fn('GENDER')\n",
    "encode_fn('DRIVING_EXPERIENCE')\n",
    "encode_fn('EDUCATION')\n",
    "encode_fn('INCOME')\n",
    "encode_fn('VEHICLE_YEAR')\n",
    "encode_fn('TYPE_OF_VEHICLE')\n"
   ]
  },
  {
   "cell_type": "markdown",
   "metadata": {},
   "source": [
    "## 2. Covariant Shift evaluation\n"
   ]
  },
  {
   "cell_type": "code",
   "execution_count": 82,
   "metadata": {},
   "outputs": [],
   "source": [
    "#adding a column to identify whether a row comes from train or not\n",
    "test_df['is_train'] = 0\n",
    "train_df['is_train'] = 1 "
   ]
  },
  {
   "cell_type": "code",
   "execution_count": 121,
   "metadata": {},
   "outputs": [],
   "source": [
    "#combining test and train data\n",
    "\n",
    "\n",
    "df_combine = pd.concat([train_df[['TYPE_OF_VEHICLE','is_train']], test_df[['TYPE_OF_VEHICLE','is_train']]], axis=0, ignore_index=True)\n",
    "#dropping ‘target’ column as it is not present in the test\n",
    "\n",
    "y = df_combine['is_train'].values #labels\n",
    "x = df_combine.drop('is_train', axis=1).values #covariates or our independent variables\n",
    "\n",
    "tst, trn = test_df['TYPE_OF_VEHICLE'].values, train_df['TYPE_OF_VEHICLE'].values"
   ]
  },
  {
   "cell_type": "code",
   "execution_count": 122,
   "metadata": {},
   "outputs": [],
   "source": [
    "m = RandomForestClassifier(n_jobs=-1, max_depth=5, min_samples_leaf = 5)\n",
    "predictions = np.zeros(y.shape)"
   ]
  },
  {
   "cell_type": "code",
   "execution_count": 123,
   "metadata": {},
   "outputs": [],
   "source": [
    "skf = StratifiedKFold(n_splits=20, shuffle=True, random_state=100)\n",
    "for fold, (train_idx, test_idx) in enumerate(skf.split(x, y)):\n",
    "    X_train, X_test = x[train_idx], x[test_idx]\n",
    "    y_train, y_test = y[train_idx], y[test_idx]\n",
    "    m.fit(X_train, y_train)\n",
    "    probs = m.predict_proba(X_test)[:, 1] #calculating the probability\n",
    "    predictions[test_idx] = probs"
   ]
  },
  {
   "cell_type": "code",
   "execution_count": 124,
   "metadata": {},
   "outputs": [
    {
     "name": "stdout",
     "output_type": "stream",
     "text": [
      "ROC-AUC for train and test distributions: 0.4973115343915344\n"
     ]
    }
   ],
   "source": [
    "print('ROC-AUC for train and test distributions:', roc_auc_score(y, predictions))"
   ]
  },
  {
   "cell_type": "markdown",
   "metadata": {},
   "source": [
    "#### Inference for covariance shift:\n",
    "There is no covariance shift between train and test data in all the columns:\n",
    "    1. DUIS (AUC value: 0.50)\n",
    "    2. PAST_ACCIDENTS (0.4986)\n",
    "    3. SPEEDING_VIOLATIONS (0.498)\n",
    "    4. ANNUAL_MILEAGE (0.4978)\n",
    "    5. MARRIED (0.49775)\n",
    "    6. CHILDREN (0.49945)\n",
    "    7. VEHICLE_OWNERSHIP (0.495)\n",
    "    8. CREDIT_SCORE (0.50)\n",
    "    9. ID (0.497795)\n",
    "    10. POSTAL_CODE (0.495597)\n",
    "    11. AGE (0.4989)\n",
    "    12. GENDER (0.4974)\n",
    "    13. DRIVING_EXPERIENCE (0.499867)\n",
    "    14. EDUCATION (0.495)\n",
    "    15. INCOME (0.49577)\n",
    "    16. VEHICLE_YEAR (0.492)\n",
    "    17. TYPE_OF_VEHICLE (0.4973)"
   ]
  },
  {
   "cell_type": "markdown",
   "metadata": {},
   "source": [
    "### But, we need to verify the categorical types in all the categorical columns"
   ]
  },
  {
   "cell_type": "markdown",
   "metadata": {},
   "source": [
    "## 3. Verify category types for all categorical columns in both datasets"
   ]
  },
  {
   "cell_type": "code",
   "execution_count": 126,
   "metadata": {},
   "outputs": [],
   "source": [
    "train_df = pd.read_csv('AnalyticsOlympiad2022Data/train.csv')\n",
    "test_df = pd.read_csv('AnalyticsOlympiad2022Data/test.csv')\n",
    "submission_df = pd.read_csv('AnalyticsOlympiad2022Data/submission.csv')"
   ]
  },
  {
   "cell_type": "code",
   "execution_count": 140,
   "metadata": {},
   "outputs": [
    {
     "data": {
      "text/plain": [
       "Sports Car    34592\n",
       "Sedan         28120\n",
       "HatchBack     24900\n",
       "SUV           17388\n",
       "Name: TYPE_OF_VEHICLE, dtype: int64"
      ]
     },
     "execution_count": 140,
     "metadata": {},
     "output_type": "execute_result"
    }
   ],
   "source": [
    "train_df['TYPE_OF_VEHICLE'].value_counts(dropna=False)"
   ]
  },
  {
   "cell_type": "code",
   "execution_count": 139,
   "metadata": {},
   "outputs": [
    {
     "data": {
      "text/plain": [
       "Sports Car    14811\n",
       "Sedan         11968\n",
       "HatchBack     10720\n",
       "SUV            7501\n",
       "Name: TYPE_OF_VEHICLE, dtype: int64"
      ]
     },
     "execution_count": 139,
     "metadata": {},
     "output_type": "execute_result"
    }
   ],
   "source": [
    "test_df['TYPE_OF_VEHICLE'].value_counts(dropna=False)"
   ]
  },
  {
   "cell_type": "code",
   "execution_count": null,
   "metadata": {},
   "outputs": [],
   "source": []
  }
 ],
 "metadata": {
  "kernelspec": {
   "display_name": "Python 3",
   "language": "python",
   "name": "python3"
  },
  "language_info": {
   "codemirror_mode": {
    "name": "ipython",
    "version": 3
   },
   "file_extension": ".py",
   "mimetype": "text/x-python",
   "name": "python",
   "nbconvert_exporter": "python",
   "pygments_lexer": "ipython3",
   "version": "3.7.6"
  }
 },
 "nbformat": 4,
 "nbformat_minor": 4
}
