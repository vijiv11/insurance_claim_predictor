{
 "cells": [
  {
   "cell_type": "code",
   "execution_count": 2,
   "metadata": {},
   "outputs": [],
   "source": [
    "import pandas as pd\n",
    "import numpy as np"
   ]
  },
  {
   "cell_type": "code",
   "execution_count": 3,
   "metadata": {},
   "outputs": [],
   "source": [
    "train_df = pd.read_csv('AnalyticsOlympiad2022Data/train.csv')\n",
    "test_df = pd.read_csv('AnalyticsOlympiad2022Data/test.csv')\n",
    "submission_df = pd.read_csv('AnalyticsOlympiad2022Data/submission.csv')"
   ]
  },
  {
   "cell_type": "markdown",
   "metadata": {},
   "source": [
    "## SECTION 1: DATA UNDERSTANDING"
   ]
  },
  {
   "cell_type": "code",
   "execution_count": 4,
   "metadata": {
    "scrolled": true
   },
   "outputs": [
    {
     "data": {
      "text/html": [
       "<div>\n",
       "<style scoped>\n",
       "    .dataframe tbody tr th:only-of-type {\n",
       "        vertical-align: middle;\n",
       "    }\n",
       "\n",
       "    .dataframe tbody tr th {\n",
       "        vertical-align: top;\n",
       "    }\n",
       "\n",
       "    .dataframe thead th {\n",
       "        text-align: right;\n",
       "    }\n",
       "</style>\n",
       "<table border=\"1\" class=\"dataframe\">\n",
       "  <thead>\n",
       "    <tr style=\"text-align: right;\">\n",
       "      <th></th>\n",
       "      <th>ID</th>\n",
       "      <th>AGE</th>\n",
       "      <th>GENDER</th>\n",
       "      <th>DRIVING_EXPERIENCE</th>\n",
       "      <th>EDUCATION</th>\n",
       "      <th>INCOME</th>\n",
       "      <th>CREDIT_SCORE</th>\n",
       "      <th>VEHICLE_OWNERSHIP</th>\n",
       "      <th>VEHICLE_YEAR</th>\n",
       "      <th>MARRIED</th>\n",
       "      <th>CHILDREN</th>\n",
       "      <th>POSTAL_CODE</th>\n",
       "      <th>ANNUAL_MILEAGE</th>\n",
       "      <th>SPEEDING_VIOLATIONS</th>\n",
       "      <th>DUIS</th>\n",
       "      <th>PAST_ACCIDENTS</th>\n",
       "      <th>OUTCOME</th>\n",
       "      <th>TYPE_OF_VEHICLE</th>\n",
       "    </tr>\n",
       "  </thead>\n",
       "  <tbody>\n",
       "    <tr>\n",
       "      <th>0</th>\n",
       "      <td>816393</td>\n",
       "      <td>40-64</td>\n",
       "      <td>female</td>\n",
       "      <td>20-29y</td>\n",
       "      <td>university</td>\n",
       "      <td>middle class</td>\n",
       "      <td>0.638050</td>\n",
       "      <td>0.0</td>\n",
       "      <td>after 2015</td>\n",
       "      <td>0.0</td>\n",
       "      <td>0.0</td>\n",
       "      <td>37379</td>\n",
       "      <td>11000.0</td>\n",
       "      <td>0</td>\n",
       "      <td>0</td>\n",
       "      <td>0</td>\n",
       "      <td>0.0</td>\n",
       "      <td>Sports Car</td>\n",
       "    </tr>\n",
       "    <tr>\n",
       "      <th>1</th>\n",
       "      <td>251762</td>\n",
       "      <td>26-39</td>\n",
       "      <td>male</td>\n",
       "      <td>20-29y</td>\n",
       "      <td>high school</td>\n",
       "      <td>middle class</td>\n",
       "      <td>0.475741</td>\n",
       "      <td>1.0</td>\n",
       "      <td>before 2015</td>\n",
       "      <td>1.0</td>\n",
       "      <td>0.0</td>\n",
       "      <td>10238</td>\n",
       "      <td>9000.0</td>\n",
       "      <td>0</td>\n",
       "      <td>0</td>\n",
       "      <td>0</td>\n",
       "      <td>1.0</td>\n",
       "      <td>HatchBack</td>\n",
       "    </tr>\n",
       "    <tr>\n",
       "      <th>2</th>\n",
       "      <td>481952</td>\n",
       "      <td>40-64</td>\n",
       "      <td>male</td>\n",
       "      <td>20-29y</td>\n",
       "      <td>none</td>\n",
       "      <td>middle class</td>\n",
       "      <td>0.839817</td>\n",
       "      <td>1.0</td>\n",
       "      <td>before 2015</td>\n",
       "      <td>1.0</td>\n",
       "      <td>1.0</td>\n",
       "      <td>10238</td>\n",
       "      <td>12000.0</td>\n",
       "      <td>0</td>\n",
       "      <td>0</td>\n",
       "      <td>0</td>\n",
       "      <td>1.0</td>\n",
       "      <td>Sedan</td>\n",
       "    </tr>\n",
       "    <tr>\n",
       "      <th>3</th>\n",
       "      <td>3506</td>\n",
       "      <td>40-64</td>\n",
       "      <td>male</td>\n",
       "      <td>20-29y</td>\n",
       "      <td>high school</td>\n",
       "      <td>upper class</td>\n",
       "      <td>0.682527</td>\n",
       "      <td>1.0</td>\n",
       "      <td>before 2015</td>\n",
       "      <td>0.0</td>\n",
       "      <td>1.0</td>\n",
       "      <td>92099</td>\n",
       "      <td>6000.0</td>\n",
       "      <td>1</td>\n",
       "      <td>0</td>\n",
       "      <td>0</td>\n",
       "      <td>1.0</td>\n",
       "      <td>Sedan</td>\n",
       "    </tr>\n",
       "    <tr>\n",
       "      <th>4</th>\n",
       "      <td>498013</td>\n",
       "      <td>40-64</td>\n",
       "      <td>female</td>\n",
       "      <td>20-29y</td>\n",
       "      <td>none</td>\n",
       "      <td>working class</td>\n",
       "      <td>0.572184</td>\n",
       "      <td>1.0</td>\n",
       "      <td>after 2015</td>\n",
       "      <td>1.0</td>\n",
       "      <td>1.0</td>\n",
       "      <td>32122</td>\n",
       "      <td>15000.0</td>\n",
       "      <td>0</td>\n",
       "      <td>0</td>\n",
       "      <td>1</td>\n",
       "      <td>0.0</td>\n",
       "      <td>Sedan</td>\n",
       "    </tr>\n",
       "  </tbody>\n",
       "</table>\n",
       "</div>"
      ],
      "text/plain": [
       "       ID    AGE  GENDER DRIVING_EXPERIENCE    EDUCATION         INCOME  \\\n",
       "0  816393  40-64  female             20-29y   university   middle class   \n",
       "1  251762  26-39    male             20-29y  high school   middle class   \n",
       "2  481952  40-64    male             20-29y         none   middle class   \n",
       "3    3506  40-64    male             20-29y  high school    upper class   \n",
       "4  498013  40-64  female             20-29y         none  working class   \n",
       "\n",
       "   CREDIT_SCORE  VEHICLE_OWNERSHIP VEHICLE_YEAR  MARRIED  CHILDREN  \\\n",
       "0      0.638050                0.0   after 2015      0.0       0.0   \n",
       "1      0.475741                1.0  before 2015      1.0       0.0   \n",
       "2      0.839817                1.0  before 2015      1.0       1.0   \n",
       "3      0.682527                1.0  before 2015      0.0       1.0   \n",
       "4      0.572184                1.0   after 2015      1.0       1.0   \n",
       "\n",
       "   POSTAL_CODE  ANNUAL_MILEAGE  SPEEDING_VIOLATIONS  DUIS  PAST_ACCIDENTS  \\\n",
       "0        37379         11000.0                    0     0               0   \n",
       "1        10238          9000.0                    0     0               0   \n",
       "2        10238         12000.0                    0     0               0   \n",
       "3        92099          6000.0                    1     0               0   \n",
       "4        32122         15000.0                    0     0               1   \n",
       "\n",
       "   OUTCOME TYPE_OF_VEHICLE  \n",
       "0      0.0      Sports Car  \n",
       "1      1.0       HatchBack  \n",
       "2      1.0           Sedan  \n",
       "3      1.0           Sedan  \n",
       "4      0.0           Sedan  "
      ]
     },
     "execution_count": 4,
     "metadata": {},
     "output_type": "execute_result"
    }
   ],
   "source": [
    "# Display top 5 records \n",
    "train_df.head()"
   ]
  },
  {
   "cell_type": "code",
   "execution_count": 5,
   "metadata": {},
   "outputs": [
    {
     "name": "stdout",
     "output_type": "stream",
     "text": [
      "Train (105000, 18)\n",
      "Test (45000, 17)\n"
     ]
    }
   ],
   "source": [
    "# Check the dataframe rows & columns\n",
    "print(\"Train\", train_df.shape)\n",
    "print(\"Test\", test_df.shape)"
   ]
  },
  {
   "cell_type": "markdown",
   "metadata": {},
   "source": [
    "There are 18 columns and approximately 1 lakh records"
   ]
  },
  {
   "cell_type": "code",
   "execution_count": 6,
   "metadata": {},
   "outputs": [
    {
     "name": "stdout",
     "output_type": "stream",
     "text": [
      "<class 'pandas.core.frame.DataFrame'>\n",
      "RangeIndex: 105000 entries, 0 to 104999\n",
      "Data columns (total 18 columns):\n",
      " #   Column               Non-Null Count   Dtype  \n",
      "---  ------               --------------   -----  \n",
      " 0   ID                   105000 non-null  int64  \n",
      " 1   AGE                  105000 non-null  object \n",
      " 2   GENDER               105000 non-null  object \n",
      " 3   DRIVING_EXPERIENCE   105000 non-null  object \n",
      " 4   EDUCATION            105000 non-null  object \n",
      " 5   INCOME               105000 non-null  object \n",
      " 6   CREDIT_SCORE         105000 non-null  float64\n",
      " 7   VEHICLE_OWNERSHIP    105000 non-null  float64\n",
      " 8   VEHICLE_YEAR         105000 non-null  object \n",
      " 9   MARRIED              105000 non-null  float64\n",
      " 10  CHILDREN             105000 non-null  float64\n",
      " 11  POSTAL_CODE          105000 non-null  int64  \n",
      " 12  ANNUAL_MILEAGE       105000 non-null  float64\n",
      " 13  SPEEDING_VIOLATIONS  105000 non-null  int64  \n",
      " 14  DUIS                 105000 non-null  int64  \n",
      " 15  PAST_ACCIDENTS       105000 non-null  int64  \n",
      " 16  OUTCOME              105000 non-null  float64\n",
      " 17  TYPE_OF_VEHICLE      105000 non-null  object \n",
      "dtypes: float64(6), int64(5), object(7)\n",
      "memory usage: 14.4+ MB\n"
     ]
    }
   ],
   "source": [
    "# Check for datatypes and nulls\n",
    "train_df.info()"
   ]
  },
  {
   "cell_type": "code",
   "execution_count": 7,
   "metadata": {},
   "outputs": [],
   "source": [
    "# 1. Check for duplicates in ID column\n",
    "# 2. Check for age group, disguised nulls, outliers, skewness\n",
    "# 3. Check for disguised nulls in Gender column, skewness, perform dummy variable creation for this column\n",
    "# 4. Driving_experience: Check for disguised nulls, is this numerical categorical variable? How to handle this column? Also, skew\n",
    "# 5. education: Check for disguised nulls, label encode this columns (ordinal categorical), outliers and skew check\n",
    "# 6. Credit score: Check for disguised nulls, outliers and skew check\n",
    "# 7. Vehicle_ownership: convert to int , check for disguised nulls, outliers and skew check\n",
    "# 8. vehicle_year: how to handle vehicle year , check for disguised nulls, outliers and skew check\n",
    "# 9. Married: convert to int, check for disguised nulls, outliers and skew check\n",
    "# 10. children: convert to int, outliers and skew check\n",
    "# 11. postal_code: check and map the postal codes (5 digit postal code)\n",
    "# 12. annual_mileage: can we bin this variable, convert to int\n",
    "# 13. speeding_violations: Should we check for skewness and outliers, check for disguised records\n",
    "# 14. duis: what is the meaning of this?\n",
    "# 15. past_accidents:\n",
    "# 16. outcome: target variable, check for class imbalance\n",
    "# 17. type_of_vehicle: any feature that can be derived? \n"
   ]
  },
  {
   "cell_type": "code",
   "execution_count": 8,
   "metadata": {},
   "outputs": [
    {
     "data": {
      "text/plain": [
       "True"
      ]
     },
     "execution_count": 8,
     "metadata": {},
     "output_type": "execute_result"
    }
   ],
   "source": [
    "# Check if train_df and test_df has same number of columns\n",
    "train_cols = list(train_df.columns)\n",
    "test_cols = list(test_df.columns)\n",
    "train_cols.remove('OUTCOME')\n",
    "sorted(train_cols) == sorted(test_cols)"
   ]
  },
  {
   "cell_type": "code",
   "execution_count": 9,
   "metadata": {
    "scrolled": true
   },
   "outputs": [
    {
     "data": {
      "text/html": [
       "<div>\n",
       "<style scoped>\n",
       "    .dataframe tbody tr th:only-of-type {\n",
       "        vertical-align: middle;\n",
       "    }\n",
       "\n",
       "    .dataframe tbody tr th {\n",
       "        vertical-align: top;\n",
       "    }\n",
       "\n",
       "    .dataframe thead th {\n",
       "        text-align: right;\n",
       "    }\n",
       "</style>\n",
       "<table border=\"1\" class=\"dataframe\">\n",
       "  <thead>\n",
       "    <tr style=\"text-align: right;\">\n",
       "      <th></th>\n",
       "      <th>ID</th>\n",
       "      <th>CREDIT_SCORE</th>\n",
       "      <th>VEHICLE_OWNERSHIP</th>\n",
       "      <th>MARRIED</th>\n",
       "      <th>CHILDREN</th>\n",
       "      <th>POSTAL_CODE</th>\n",
       "      <th>ANNUAL_MILEAGE</th>\n",
       "      <th>SPEEDING_VIOLATIONS</th>\n",
       "      <th>DUIS</th>\n",
       "      <th>PAST_ACCIDENTS</th>\n",
       "      <th>OUTCOME</th>\n",
       "    </tr>\n",
       "  </thead>\n",
       "  <tbody>\n",
       "    <tr>\n",
       "      <th>count</th>\n",
       "      <td>105000.000000</td>\n",
       "      <td>105000.000000</td>\n",
       "      <td>105000.000000</td>\n",
       "      <td>105000.000000</td>\n",
       "      <td>105000.000000</td>\n",
       "      <td>105000.000000</td>\n",
       "      <td>105000.000000</td>\n",
       "      <td>105000.000000</td>\n",
       "      <td>105000.000000</td>\n",
       "      <td>105000.000000</td>\n",
       "      <td>105000.000000</td>\n",
       "    </tr>\n",
       "    <tr>\n",
       "      <th>mean</th>\n",
       "      <td>394931.295905</td>\n",
       "      <td>0.602173</td>\n",
       "      <td>0.827038</td>\n",
       "      <td>0.584143</td>\n",
       "      <td>0.520000</td>\n",
       "      <td>18045.439267</td>\n",
       "      <td>11061.228571</td>\n",
       "      <td>0.675676</td>\n",
       "      <td>0.129733</td>\n",
       "      <td>0.549314</td>\n",
       "      <td>0.422648</td>\n",
       "    </tr>\n",
       "    <tr>\n",
       "      <th>std</th>\n",
       "      <td>279694.106053</td>\n",
       "      <td>0.138045</td>\n",
       "      <td>0.378216</td>\n",
       "      <td>0.492871</td>\n",
       "      <td>0.499602</td>\n",
       "      <td>16709.040449</td>\n",
       "      <td>2972.355482</td>\n",
       "      <td>1.383678</td>\n",
       "      <td>0.589714</td>\n",
       "      <td>1.402809</td>\n",
       "      <td>0.493983</td>\n",
       "    </tr>\n",
       "    <tr>\n",
       "      <th>min</th>\n",
       "      <td>101.000000</td>\n",
       "      <td>0.066880</td>\n",
       "      <td>0.000000</td>\n",
       "      <td>0.000000</td>\n",
       "      <td>0.000000</td>\n",
       "      <td>10238.000000</td>\n",
       "      <td>2000.000000</td>\n",
       "      <td>0.000000</td>\n",
       "      <td>0.000000</td>\n",
       "      <td>0.000000</td>\n",
       "      <td>0.000000</td>\n",
       "    </tr>\n",
       "    <tr>\n",
       "      <th>25%</th>\n",
       "      <td>156351.750000</td>\n",
       "      <td>0.514876</td>\n",
       "      <td>1.000000</td>\n",
       "      <td>0.000000</td>\n",
       "      <td>0.000000</td>\n",
       "      <td>10238.000000</td>\n",
       "      <td>9000.000000</td>\n",
       "      <td>0.000000</td>\n",
       "      <td>0.000000</td>\n",
       "      <td>0.000000</td>\n",
       "      <td>0.000000</td>\n",
       "    </tr>\n",
       "    <tr>\n",
       "      <th>50%</th>\n",
       "      <td>354679.500000</td>\n",
       "      <td>0.601112</td>\n",
       "      <td>1.000000</td>\n",
       "      <td>1.000000</td>\n",
       "      <td>1.000000</td>\n",
       "      <td>10238.000000</td>\n",
       "      <td>11000.000000</td>\n",
       "      <td>0.000000</td>\n",
       "      <td>0.000000</td>\n",
       "      <td>0.000000</td>\n",
       "      <td>0.000000</td>\n",
       "    </tr>\n",
       "    <tr>\n",
       "      <th>75%</th>\n",
       "      <td>598602.250000</td>\n",
       "      <td>0.703216</td>\n",
       "      <td>1.000000</td>\n",
       "      <td>1.000000</td>\n",
       "      <td>1.000000</td>\n",
       "      <td>22957.750000</td>\n",
       "      <td>13000.000000</td>\n",
       "      <td>1.000000</td>\n",
       "      <td>0.000000</td>\n",
       "      <td>0.000000</td>\n",
       "      <td>1.000000</td>\n",
       "    </tr>\n",
       "    <tr>\n",
       "      <th>max</th>\n",
       "      <td>999976.000000</td>\n",
       "      <td>0.954075</td>\n",
       "      <td>1.000000</td>\n",
       "      <td>1.000000</td>\n",
       "      <td>1.000000</td>\n",
       "      <td>92101.000000</td>\n",
       "      <td>21000.000000</td>\n",
       "      <td>20.000000</td>\n",
       "      <td>6.000000</td>\n",
       "      <td>15.000000</td>\n",
       "      <td>1.000000</td>\n",
       "    </tr>\n",
       "  </tbody>\n",
       "</table>\n",
       "</div>"
      ],
      "text/plain": [
       "                  ID   CREDIT_SCORE  VEHICLE_OWNERSHIP        MARRIED  \\\n",
       "count  105000.000000  105000.000000      105000.000000  105000.000000   \n",
       "mean   394931.295905       0.602173           0.827038       0.584143   \n",
       "std    279694.106053       0.138045           0.378216       0.492871   \n",
       "min       101.000000       0.066880           0.000000       0.000000   \n",
       "25%    156351.750000       0.514876           1.000000       0.000000   \n",
       "50%    354679.500000       0.601112           1.000000       1.000000   \n",
       "75%    598602.250000       0.703216           1.000000       1.000000   \n",
       "max    999976.000000       0.954075           1.000000       1.000000   \n",
       "\n",
       "            CHILDREN    POSTAL_CODE  ANNUAL_MILEAGE  SPEEDING_VIOLATIONS  \\\n",
       "count  105000.000000  105000.000000   105000.000000        105000.000000   \n",
       "mean        0.520000   18045.439267    11061.228571             0.675676   \n",
       "std         0.499602   16709.040449     2972.355482             1.383678   \n",
       "min         0.000000   10238.000000     2000.000000             0.000000   \n",
       "25%         0.000000   10238.000000     9000.000000             0.000000   \n",
       "50%         1.000000   10238.000000    11000.000000             0.000000   \n",
       "75%         1.000000   22957.750000    13000.000000             1.000000   \n",
       "max         1.000000   92101.000000    21000.000000            20.000000   \n",
       "\n",
       "                DUIS  PAST_ACCIDENTS        OUTCOME  \n",
       "count  105000.000000   105000.000000  105000.000000  \n",
       "mean        0.129733        0.549314       0.422648  \n",
       "std         0.589714        1.402809       0.493983  \n",
       "min         0.000000        0.000000       0.000000  \n",
       "25%         0.000000        0.000000       0.000000  \n",
       "50%         0.000000        0.000000       0.000000  \n",
       "75%         0.000000        0.000000       1.000000  \n",
       "max         6.000000       15.000000       1.000000  "
      ]
     },
     "execution_count": 9,
     "metadata": {},
     "output_type": "execute_result"
    }
   ],
   "source": [
    "# Check the descriptive statistics\n",
    "train_df.describe()"
   ]
  },
  {
   "cell_type": "markdown",
   "metadata": {},
   "source": [
    "## SECTION 2: DATA UNDERSTANDING"
   ]
  },
  {
   "cell_type": "code",
   "execution_count": 10,
   "metadata": {},
   "outputs": [
    {
     "data": {
      "text/plain": [
       "(6515, 18)"
      ]
     },
     "execution_count": 10,
     "metadata": {},
     "output_type": "execute_result"
    }
   ],
   "source": [
    "# check for duplicates\n",
    "dup_rows = train_df[train_df.duplicated(subset=['ID'],keep='last')]\n",
    "dup_rows.shape\n"
   ]
  },
  {
   "cell_type": "code",
   "execution_count": 11,
   "metadata": {
    "scrolled": true
   },
   "outputs": [
    {
     "data": {
      "text/html": [
       "<div>\n",
       "<style scoped>\n",
       "    .dataframe tbody tr th:only-of-type {\n",
       "        vertical-align: middle;\n",
       "    }\n",
       "\n",
       "    .dataframe tbody tr th {\n",
       "        vertical-align: top;\n",
       "    }\n",
       "\n",
       "    .dataframe thead th {\n",
       "        text-align: right;\n",
       "    }\n",
       "</style>\n",
       "<table border=\"1\" class=\"dataframe\">\n",
       "  <thead>\n",
       "    <tr style=\"text-align: right;\">\n",
       "      <th></th>\n",
       "      <th>ID</th>\n",
       "      <th>AGE</th>\n",
       "      <th>GENDER</th>\n",
       "      <th>DRIVING_EXPERIENCE</th>\n",
       "      <th>EDUCATION</th>\n",
       "      <th>INCOME</th>\n",
       "      <th>CREDIT_SCORE</th>\n",
       "      <th>VEHICLE_OWNERSHIP</th>\n",
       "      <th>VEHICLE_YEAR</th>\n",
       "      <th>MARRIED</th>\n",
       "      <th>CHILDREN</th>\n",
       "      <th>POSTAL_CODE</th>\n",
       "      <th>ANNUAL_MILEAGE</th>\n",
       "      <th>SPEEDING_VIOLATIONS</th>\n",
       "      <th>DUIS</th>\n",
       "      <th>PAST_ACCIDENTS</th>\n",
       "      <th>OUTCOME</th>\n",
       "      <th>TYPE_OF_VEHICLE</th>\n",
       "    </tr>\n",
       "  </thead>\n",
       "  <tbody>\n",
       "    <tr>\n",
       "      <th>0</th>\n",
       "      <td>816393</td>\n",
       "      <td>40-64</td>\n",
       "      <td>female</td>\n",
       "      <td>20-29y</td>\n",
       "      <td>university</td>\n",
       "      <td>middle class</td>\n",
       "      <td>0.638050</td>\n",
       "      <td>0.0</td>\n",
       "      <td>after 2015</td>\n",
       "      <td>0.0</td>\n",
       "      <td>0.0</td>\n",
       "      <td>37379</td>\n",
       "      <td>11000.0</td>\n",
       "      <td>0</td>\n",
       "      <td>0</td>\n",
       "      <td>0</td>\n",
       "      <td>0.0</td>\n",
       "      <td>Sports Car</td>\n",
       "    </tr>\n",
       "    <tr>\n",
       "      <th>1</th>\n",
       "      <td>251762</td>\n",
       "      <td>26-39</td>\n",
       "      <td>male</td>\n",
       "      <td>20-29y</td>\n",
       "      <td>high school</td>\n",
       "      <td>middle class</td>\n",
       "      <td>0.475741</td>\n",
       "      <td>1.0</td>\n",
       "      <td>before 2015</td>\n",
       "      <td>1.0</td>\n",
       "      <td>0.0</td>\n",
       "      <td>10238</td>\n",
       "      <td>9000.0</td>\n",
       "      <td>0</td>\n",
       "      <td>0</td>\n",
       "      <td>0</td>\n",
       "      <td>1.0</td>\n",
       "      <td>HatchBack</td>\n",
       "    </tr>\n",
       "    <tr>\n",
       "      <th>2</th>\n",
       "      <td>481952</td>\n",
       "      <td>40-64</td>\n",
       "      <td>male</td>\n",
       "      <td>20-29y</td>\n",
       "      <td>none</td>\n",
       "      <td>middle class</td>\n",
       "      <td>0.839817</td>\n",
       "      <td>1.0</td>\n",
       "      <td>before 2015</td>\n",
       "      <td>1.0</td>\n",
       "      <td>1.0</td>\n",
       "      <td>10238</td>\n",
       "      <td>12000.0</td>\n",
       "      <td>0</td>\n",
       "      <td>0</td>\n",
       "      <td>0</td>\n",
       "      <td>1.0</td>\n",
       "      <td>Sedan</td>\n",
       "    </tr>\n",
       "    <tr>\n",
       "      <th>3</th>\n",
       "      <td>3506</td>\n",
       "      <td>40-64</td>\n",
       "      <td>male</td>\n",
       "      <td>20-29y</td>\n",
       "      <td>high school</td>\n",
       "      <td>upper class</td>\n",
       "      <td>0.682527</td>\n",
       "      <td>1.0</td>\n",
       "      <td>before 2015</td>\n",
       "      <td>0.0</td>\n",
       "      <td>1.0</td>\n",
       "      <td>92099</td>\n",
       "      <td>6000.0</td>\n",
       "      <td>1</td>\n",
       "      <td>0</td>\n",
       "      <td>0</td>\n",
       "      <td>1.0</td>\n",
       "      <td>Sedan</td>\n",
       "    </tr>\n",
       "    <tr>\n",
       "      <th>4</th>\n",
       "      <td>498013</td>\n",
       "      <td>40-64</td>\n",
       "      <td>female</td>\n",
       "      <td>20-29y</td>\n",
       "      <td>none</td>\n",
       "      <td>working class</td>\n",
       "      <td>0.572184</td>\n",
       "      <td>1.0</td>\n",
       "      <td>after 2015</td>\n",
       "      <td>1.0</td>\n",
       "      <td>1.0</td>\n",
       "      <td>32122</td>\n",
       "      <td>15000.0</td>\n",
       "      <td>0</td>\n",
       "      <td>0</td>\n",
       "      <td>1</td>\n",
       "      <td>0.0</td>\n",
       "      <td>Sedan</td>\n",
       "    </tr>\n",
       "  </tbody>\n",
       "</table>\n",
       "</div>"
      ],
      "text/plain": [
       "       ID    AGE  GENDER DRIVING_EXPERIENCE    EDUCATION         INCOME  \\\n",
       "0  816393  40-64  female             20-29y   university   middle class   \n",
       "1  251762  26-39    male             20-29y  high school   middle class   \n",
       "2  481952  40-64    male             20-29y         none   middle class   \n",
       "3    3506  40-64    male             20-29y  high school    upper class   \n",
       "4  498013  40-64  female             20-29y         none  working class   \n",
       "\n",
       "   CREDIT_SCORE  VEHICLE_OWNERSHIP VEHICLE_YEAR  MARRIED  CHILDREN  \\\n",
       "0      0.638050                0.0   after 2015      0.0       0.0   \n",
       "1      0.475741                1.0  before 2015      1.0       0.0   \n",
       "2      0.839817                1.0  before 2015      1.0       1.0   \n",
       "3      0.682527                1.0  before 2015      0.0       1.0   \n",
       "4      0.572184                1.0   after 2015      1.0       1.0   \n",
       "\n",
       "   POSTAL_CODE  ANNUAL_MILEAGE  SPEEDING_VIOLATIONS  DUIS  PAST_ACCIDENTS  \\\n",
       "0        37379         11000.0                    0     0               0   \n",
       "1        10238          9000.0                    0     0               0   \n",
       "2        10238         12000.0                    0     0               0   \n",
       "3        92099          6000.0                    1     0               0   \n",
       "4        32122         15000.0                    0     0               1   \n",
       "\n",
       "   OUTCOME TYPE_OF_VEHICLE  \n",
       "0      0.0      Sports Car  \n",
       "1      1.0       HatchBack  \n",
       "2      1.0           Sedan  \n",
       "3      1.0           Sedan  \n",
       "4      0.0           Sedan  "
      ]
     },
     "execution_count": 11,
     "metadata": {},
     "output_type": "execute_result"
    }
   ],
   "source": [
    "train_df.head()"
   ]
  },
  {
   "cell_type": "code",
   "execution_count": 12,
   "metadata": {},
   "outputs": [
    {
     "name": "stdout",
     "output_type": "stream",
     "text": [
      "\u001b[1mNumerical Columns:\n",
      "\u001b[0m\n",
      "ID, CREDIT_SCORE, VEHICLE_OWNERSHIP, MARRIED, CHILDREN, POSTAL_CODE, ANNUAL_MILEAGE, SPEEDING_VIOLATIONS, DUIS, PAST_ACCIDENTS, OUTCOME\n",
      "\n",
      "\u001b[1mCategorical Columns:\n",
      "\u001b[0m\n",
      "TYPE_OF_VEHICLE, AGE, GENDER, DRIVING_EXPERIENCE, VEHICLE_YEAR, INCOME, EDUCATION\n"
     ]
    }
   ],
   "source": [
    "class textProperty(object):\n",
    "    bold = \"\\033[1m\"\n",
    "    end = \"\\033[0m\"\n",
    "    \n",
    "# Classify Numerical vs Categorical Columns \n",
    "num_cols = train_df.describe().columns\n",
    "cat_cols = set(train_df.columns) - set(train_df.describe().columns)\n",
    " \n",
    "print(textProperty.bold + \"Numerical Columns:\\n\" + textProperty.end + \"\\n\" + ', '.join(num_cols) + \"\\n\")\n",
    "print(textProperty.bold + \"Categorical Columns:\\n\" + textProperty.end + \"\\n\" + ', '.join(cat_cols))"
   ]
  },
  {
   "cell_type": "code",
   "execution_count": 13,
   "metadata": {},
   "outputs": [
    {
     "data": {
      "text/plain": [
       "ID                     0.0\n",
       "AGE                    0.0\n",
       "GENDER                 0.0\n",
       "DRIVING_EXPERIENCE     0.0\n",
       "EDUCATION              0.0\n",
       "INCOME                 0.0\n",
       "CREDIT_SCORE           0.0\n",
       "VEHICLE_OWNERSHIP      0.0\n",
       "VEHICLE_YEAR           0.0\n",
       "MARRIED                0.0\n",
       "CHILDREN               0.0\n",
       "POSTAL_CODE            0.0\n",
       "ANNUAL_MILEAGE         0.0\n",
       "SPEEDING_VIOLATIONS    0.0\n",
       "DUIS                   0.0\n",
       "PAST_ACCIDENTS         0.0\n",
       "OUTCOME                0.0\n",
       "TYPE_OF_VEHICLE        0.0\n",
       "dtype: float64"
      ]
     },
     "execution_count": 13,
     "metadata": {},
     "output_type": "execute_result"
    }
   ],
   "source": [
    "train_df.isnull().mean()"
   ]
  },
  {
   "cell_type": "code",
   "execution_count": 14,
   "metadata": {
    "scrolled": true
   },
   "outputs": [
    {
     "data": {
      "text/plain": [
       "male      65317\n",
       "female    39683\n",
       "Name: GENDER, dtype: int64"
      ]
     },
     "execution_count": 14,
     "metadata": {},
     "output_type": "execute_result"
    }
   ],
   "source": [
    "# Vehicle_ownership\n",
    "train_df['GENDER'].value_counts(dropna=False)"
   ]
  },
  {
   "cell_type": "code",
   "execution_count": 15,
   "metadata": {
    "scrolled": false
   },
   "outputs": [
    {
     "data": {
      "text/plain": [
       "high school    46590\n",
       "university     31220\n",
       "none           27190\n",
       "Name: EDUCATION, dtype: int64"
      ]
     },
     "execution_count": 15,
     "metadata": {},
     "output_type": "execute_result"
    }
   ],
   "source": [
    "train_df['EDUCATION'].value_counts(dropna=False) # Deal this column"
   ]
  },
  {
   "cell_type": "code",
   "execution_count": 16,
   "metadata": {
    "scrolled": true
   },
   "outputs": [
    {
     "data": {
      "text/plain": [
       "20-29y    37493\n",
       "0-9y      33111\n",
       "10-19y    25101\n",
       "30y+       9295\n",
       "Name: DRIVING_EXPERIENCE, dtype: int64"
      ]
     },
     "execution_count": 16,
     "metadata": {},
     "output_type": "execute_result"
    }
   ],
   "source": [
    "train_df['DRIVING_EXPERIENCE'].value_counts(dropna=False)"
   ]
  },
  {
   "cell_type": "code",
   "execution_count": 17,
   "metadata": {
    "scrolled": true
   },
   "outputs": [
    {
     "data": {
      "text/plain": [
       "40-64    33716\n",
       "65+      32962\n",
       "26-39    20018\n",
       "16-25    18304\n",
       "Name: AGE, dtype: int64"
      ]
     },
     "execution_count": 17,
     "metadata": {},
     "output_type": "execute_result"
    }
   ],
   "source": [
    "train_df['AGE'].value_counts(dropna=False)"
   ]
  },
  {
   "cell_type": "code",
   "execution_count": 18,
   "metadata": {
    "scrolled": true
   },
   "outputs": [
    {
     "data": {
      "text/plain": [
       "upper class      51271\n",
       "working class    24454\n",
       "middle class     14738\n",
       "poverty          14537\n",
       "Name: INCOME, dtype: int64"
      ]
     },
     "execution_count": 18,
     "metadata": {},
     "output_type": "execute_result"
    }
   ],
   "source": [
    "train_df['INCOME'].value_counts(dropna=False) # Is data skewed. but is it obvious?"
   ]
  },
  {
   "cell_type": "code",
   "execution_count": 19,
   "metadata": {
    "scrolled": true
   },
   "outputs": [
    {
     "data": {
      "text/plain": [
       "Sports Car    34592\n",
       "Sedan         28120\n",
       "HatchBack     24900\n",
       "SUV           17388\n",
       "Name: TYPE_OF_VEHICLE, dtype: int64"
      ]
     },
     "execution_count": 19,
     "metadata": {},
     "output_type": "execute_result"
    }
   ],
   "source": [
    "train_df['TYPE_OF_VEHICLE'].value_counts(dropna=False)"
   ]
  },
  {
   "cell_type": "code",
   "execution_count": 20,
   "metadata": {},
   "outputs": [
    {
     "data": {
      "text/plain": [
       "before 2015    57511\n",
       "after 2015     47489\n",
       "Name: VEHICLE_YEAR, dtype: int64"
      ]
     },
     "execution_count": 20,
     "metadata": {},
     "output_type": "execute_result"
    }
   ],
   "source": [
    "train_df['VEHICLE_YEAR'].value_counts(dropna=False)"
   ]
  },
  {
   "cell_type": "code",
   "execution_count": 21,
   "metadata": {
    "scrolled": true
   },
   "outputs": [
    {
     "data": {
      "text/plain": [
       "1.0    61335\n",
       "0.0    43665\n",
       "Name: MARRIED, dtype: int64"
      ]
     },
     "execution_count": 21,
     "metadata": {},
     "output_type": "execute_result"
    }
   ],
   "source": [
    "train_df['MARRIED'].value_counts(dropna=False)"
   ]
  },
  {
   "cell_type": "code",
   "execution_count": 22,
   "metadata": {},
   "outputs": [
    {
     "data": {
      "text/plain": [
       "1.0    54600\n",
       "0.0    50400\n",
       "Name: CHILDREN, dtype: int64"
      ]
     },
     "execution_count": 22,
     "metadata": {},
     "output_type": "execute_result"
    }
   ],
   "source": [
    "train_df['CHILDREN'].value_counts(dropna=False)"
   ]
  },
  {
   "cell_type": "code",
   "execution_count": 23,
   "metadata": {},
   "outputs": [
    {
     "data": {
      "text/plain": [
       "1.0    86839\n",
       "0.0    18161\n",
       "Name: VEHICLE_OWNERSHIP, dtype: int64"
      ]
     },
     "execution_count": 23,
     "metadata": {},
     "output_type": "execute_result"
    }
   ],
   "source": [
    "train_df['VEHICLE_OWNERSHIP'].value_counts(dropna=False) #tHIS DATA IS HIGHLY SKEWED. DEAL WITH THIS COLUMN"
   ]
  },
  {
   "cell_type": "code",
   "execution_count": 24,
   "metadata": {},
   "outputs": [
    {
     "data": {
      "text/plain": [
       "14000.0    16266\n",
       "10000.0    16205\n",
       "13000.0    15750\n",
       "9000.0     11986\n",
       "11000.0    10474\n",
       "12000.0     8564\n",
       "7000.0      6043\n",
       "15000.0     5191\n",
       "6000.0      3652\n",
       "8000.0      3160\n",
       "16000.0     2365\n",
       "3000.0      1515\n",
       "4000.0      1180\n",
       "5000.0       921\n",
       "17000.0      620\n",
       "2000.0       552\n",
       "18000.0      315\n",
       "19000.0      158\n",
       "20000.0       78\n",
       "21000.0        5\n",
       "Name: ANNUAL_MILEAGE, dtype: int64"
      ]
     },
     "execution_count": 24,
     "metadata": {},
     "output_type": "execute_result"
    }
   ],
   "source": [
    "train_df['ANNUAL_MILEAGE'].value_counts(dropna=False) # Requires further analysis"
   ]
  },
  {
   "cell_type": "code",
   "execution_count": 25,
   "metadata": {},
   "outputs": [
    {
     "data": {
      "text/plain": [
       "0     69163\n",
       "1     19867\n",
       "2      8749\n",
       "3      2990\n",
       "4      1688\n",
       "5       911\n",
       "6       483\n",
       "7       351\n",
       "8       260\n",
       "9       172\n",
       "10      109\n",
       "11       87\n",
       "13       58\n",
       "12       56\n",
       "14       25\n",
       "15       15\n",
       "16        7\n",
       "17        4\n",
       "18        3\n",
       "20        1\n",
       "19        1\n",
       "Name: SPEEDING_VIOLATIONS, dtype: int64"
      ]
     },
     "execution_count": 25,
     "metadata": {},
     "output_type": "execute_result"
    }
   ],
   "source": [
    "train_df['SPEEDING_VIOLATIONS'].value_counts(dropna=False) # Requires further analysis"
   ]
  },
  {
   "cell_type": "code",
   "execution_count": 26,
   "metadata": {},
   "outputs": [
    {
     "data": {
      "text/plain": [
       "0    98246\n",
       "1     3430\n",
       "2     1219\n",
       "3     1069\n",
       "4      709\n",
       "5      251\n",
       "6       76\n",
       "Name: DUIS, dtype: int64"
      ]
     },
     "execution_count": 26,
     "metadata": {},
     "output_type": "execute_result"
    }
   ],
   "source": [
    "# Requires further analysis\n",
    "train_df['DUIS'].value_counts(dropna=False)"
   ]
  },
  {
   "cell_type": "code",
   "execution_count": 27,
   "metadata": {
    "scrolled": true
   },
   "outputs": [
    {
     "data": {
      "text/plain": [
       "0     78853\n",
       "1     13762\n",
       "2      6454\n",
       "3      1749\n",
       "4      1317\n",
       "5       906\n",
       "6       534\n",
       "7       413\n",
       "8       340\n",
       "9       236\n",
       "10      157\n",
       "11       92\n",
       "12       75\n",
       "13       50\n",
       "14       38\n",
       "15       24\n",
       "Name: PAST_ACCIDENTS, dtype: int64"
      ]
     },
     "execution_count": 27,
     "metadata": {},
     "output_type": "execute_result"
    }
   ],
   "source": [
    "# Requires further analysis\n",
    "train_df['PAST_ACCIDENTS'].value_counts(dropna=False)"
   ]
  },
  {
   "cell_type": "code",
   "execution_count": 28,
   "metadata": {},
   "outputs": [
    {
     "data": {
      "text/plain": [
       "0.0    60622\n",
       "1.0    44378\n",
       "Name: OUTCOME, dtype: int64"
      ]
     },
     "execution_count": 28,
     "metadata": {},
     "output_type": "execute_result"
    }
   ],
   "source": [
    "\n",
    "train_df['OUTCOME'].value_counts(dropna=False)"
   ]
  },
  {
   "cell_type": "code",
   "execution_count": 29,
   "metadata": {},
   "outputs": [],
   "source": [
    "# AGE, INCOME, GENDER, EDUCATION, DRIVING_EXPERIENCE, TYPE_OF_VEHICLE, VEHICLE_YEAR"
   ]
  },
  {
   "cell_type": "code",
   "execution_count": 30,
   "metadata": {},
   "outputs": [
    {
     "ename": "NameError",
     "evalue": "name 'ID' is not defined",
     "output_type": "error",
     "traceback": [
      "\u001b[1;31m---------------------------------------------------------------------------\u001b[0m",
      "\u001b[1;31mNameError\u001b[0m                                 Traceback (most recent call last)",
      "\u001b[1;32m<ipython-input-30-6e27b82e7b18>\u001b[0m in \u001b[0;36m<module>\u001b[1;34m\u001b[0m\n\u001b[0;32m      1\u001b[0m \u001b[1;31m# Numerical continuous variable - CREDIT_SCORE\u001b[0m\u001b[1;33m\u001b[0m\u001b[1;33m\u001b[0m\u001b[1;33m\u001b[0m\u001b[0m\n\u001b[1;32m----> 2\u001b[1;33m \u001b[0mID\u001b[0m\u001b[1;33m,\u001b[0m\u001b[0mCREDIT_SCORE\u001b[0m\u001b[1;33m,\u001b[0m \u001b[0mPOSTAL_CODE\u001b[0m\u001b[1;33m\u001b[0m\u001b[1;33m\u001b[0m\u001b[0m\n\u001b[0m",
      "\u001b[1;31mNameError\u001b[0m: name 'ID' is not defined"
     ]
    }
   ],
   "source": [
    "# Numerical continuous variable - CREDIT_SCORE\n",
    "# ID,CREDIT_SCORE, POSTAL_CODE"
   ]
  },
  {
   "cell_type": "code",
   "execution_count": null,
   "metadata": {
    "scrolled": false
   },
   "outputs": [],
   "source": [
    "train_df.head()"
   ]
  },
  {
   "cell_type": "code",
   "execution_count": null,
   "metadata": {},
   "outputs": [],
   "source": []
  },
  {
   "cell_type": "code",
   "execution_count": null,
   "metadata": {
    "scrolled": false
   },
   "outputs": [],
   "source": [
    "# Plot to understand the distribution in LotFrontage column\n",
    "import matplotlib.pyplot as plt\n",
    "import seaborn as sns\n",
    "\n",
    "# Global variable declaration\n",
    "title_font = {'family': 'Serif', 'color': 'darkblue', 'size': 20,}\n",
    "label_font = {'family': 'monospace', 'color': 'brown', 'size': 16,}\n",
    "\n",
    "# Numerical variables analysis for outliers\n",
    "num_cols = train_df.select_dtypes(exclude='object').columns.tolist()\n",
    "num_cols.remove('MARRIED')\n",
    "num_cols.remove('CHILDREN')\n",
    "num_cols.remove('OUTCOME')\n",
    "num_cols.remove('VEHICLE_OWNERSHIP')\n",
    "\n",
    "num_cols.remove('PAST_ACCIDENTS')\n",
    "num_cols.remove('SPEEDING_VIOLATIONS')\n",
    "num_cols.remove('DUIS')\n",
    "num_cols.remove('POSTAL_CODE')\n",
    "fig = plt.figure(figsize=(15,20))\n",
    "rows = int((len(num_cols)/2)+1)\n",
    "cols = 2\n",
    "inc = 0\n",
    "for col in num_cols:\n",
    "    inc = inc + 1\n",
    "    ax = fig.add_subplot(rows,cols,inc)\n",
    "    ax.set_title(col,fontsize=10)\n",
    "    sns.boxplot(train_df[col])\n",
    "    ax.tick_params(axis='both')\n",
    "    ax.set_xlabel('')"
   ]
  },
  {
   "cell_type": "markdown",
   "metadata": {},
   "source": [
    "INFERENCE:\n",
    "    1. ANNUAL_MILEAGE RANGE: 2000 to 21000  (outliers in 2000 and 20000,21000 range)\n",
    "    2. \n",
    "    \n",
    "NOMINAL: gender, \n",
    "    \n",
    "ORDINAL:\n",
    "age, driving_experience, education, income\n",
    "\n",
    "CONTINUOUS:\n",
    "CREDIT_SCORE, ANNUAL_MILEAGE\n",
    "\n",
    "BINARY DISCRETE NUMERICAL:\n",
    "VEHICLE_OWNERSHIP, MARRIED, CHILDREN\n",
    "\n",
    "NON-BINARY DISCRETE NUMERICAL:\n",
    "SPEEDING_VIOLATIONS, DUIS, PAST_ACCIDENTS,  \n",
    "\n",
    "POSTAL_CODE, ID ??"
   ]
  },
  {
   "cell_type": "code",
   "execution_count": null,
   "metadata": {},
   "outputs": [],
   "source": [
    "# Check for normality\n",
    "def checknormality(col_name,title_txt):\n",
    "    \"\"\"\n",
    "    Function to check normality for column\n",
    "    \n",
    "    Args:\n",
    "        col_name: Column name from the given dataset\n",
    "        \n",
    "    Returns:\n",
    "        None\n",
    "    \"\"\"\n",
    "    plt.figure(figsize=(10,7))\n",
    "    plt.title(title_txt,title_font)\n",
    "    plt.xlabel(col_name, label_font)\n",
    "    sns.distplot(train_df[col_name],color = 'orange')\n",
    "    plt.show()"
   ]
  },
  {
   "cell_type": "code",
   "execution_count": null,
   "metadata": {},
   "outputs": [],
   "source": [
    "# Plot to understand the distribution in income column for normality\n",
    "checknormality(\"POSTAL_CODE\",\"PP: Data Distribution\")"
   ]
  },
  {
   "cell_type": "code",
   "execution_count": null,
   "metadata": {},
   "outputs": [],
   "source": [
    "def analyze_skew(col_lst):\n",
    "    \"\"\"\n",
    "    Function to analyze the values present in different columns\n",
    "    \n",
    "    Args: \n",
    "        col_lst: List of columns to analyze the unique values present in them\n",
    "        \n",
    "    Returns: \n",
    "        None\n",
    "    \"\"\"\n",
    "    for col in col_lst: \n",
    "        records = train_df[col].value_counts(dropna=False,normalize=True).mul(100).round(2).sort_values(ascending=False)\n",
    "        display(records.to_frame().T)"
   ]
  },
  {
   "cell_type": "code",
   "execution_count": null,
   "metadata": {},
   "outputs": [],
   "source": [
    "analyze_skew(train_df.columns)"
   ]
  },
  {
   "cell_type": "code",
   "execution_count": null,
   "metadata": {
    "scrolled": true
   },
   "outputs": [],
   "source": [
    "train_df.head()"
   ]
  },
  {
   "cell_type": "markdown",
   "metadata": {},
   "source": [
    "### DUMMY VARIABLES FOR TRAIN & TEST_DF"
   ]
  },
  {
   "cell_type": "code",
   "execution_count": 31,
   "metadata": {
    "scrolled": true
   },
   "outputs": [
    {
     "data": {
      "text/html": [
       "<div>\n",
       "<style scoped>\n",
       "    .dataframe tbody tr th:only-of-type {\n",
       "        vertical-align: middle;\n",
       "    }\n",
       "\n",
       "    .dataframe tbody tr th {\n",
       "        vertical-align: top;\n",
       "    }\n",
       "\n",
       "    .dataframe thead th {\n",
       "        text-align: right;\n",
       "    }\n",
       "</style>\n",
       "<table border=\"1\" class=\"dataframe\">\n",
       "  <thead>\n",
       "    <tr style=\"text-align: right;\">\n",
       "      <th></th>\n",
       "      <th>INCOME_poverty</th>\n",
       "      <th>INCOME_upper class</th>\n",
       "      <th>INCOME_working class</th>\n",
       "      <th>AGE_26-39</th>\n",
       "      <th>AGE_40-64</th>\n",
       "      <th>AGE_65+</th>\n",
       "      <th>EDUCATION_none</th>\n",
       "      <th>EDUCATION_university</th>\n",
       "      <th>DRIVING_EXPERIENCE_10-19y</th>\n",
       "      <th>DRIVING_EXPERIENCE_20-29y</th>\n",
       "      <th>DRIVING_EXPERIENCE_30y+</th>\n",
       "      <th>TYPE_OF_VEHICLE_SUV</th>\n",
       "      <th>TYPE_OF_VEHICLE_Sedan</th>\n",
       "      <th>TYPE_OF_VEHICLE_Sports Car</th>\n",
       "      <th>GENDER_male</th>\n",
       "      <th>VEHICLE_YEAR_before 2015</th>\n",
       "    </tr>\n",
       "  </thead>\n",
       "  <tbody>\n",
       "    <tr>\n",
       "      <th>0</th>\n",
       "      <td>0</td>\n",
       "      <td>0</td>\n",
       "      <td>0</td>\n",
       "      <td>0</td>\n",
       "      <td>1</td>\n",
       "      <td>0</td>\n",
       "      <td>0</td>\n",
       "      <td>1</td>\n",
       "      <td>0</td>\n",
       "      <td>1</td>\n",
       "      <td>0</td>\n",
       "      <td>0</td>\n",
       "      <td>0</td>\n",
       "      <td>1</td>\n",
       "      <td>0</td>\n",
       "      <td>0</td>\n",
       "    </tr>\n",
       "    <tr>\n",
       "      <th>1</th>\n",
       "      <td>0</td>\n",
       "      <td>0</td>\n",
       "      <td>0</td>\n",
       "      <td>1</td>\n",
       "      <td>0</td>\n",
       "      <td>0</td>\n",
       "      <td>0</td>\n",
       "      <td>0</td>\n",
       "      <td>0</td>\n",
       "      <td>1</td>\n",
       "      <td>0</td>\n",
       "      <td>0</td>\n",
       "      <td>0</td>\n",
       "      <td>0</td>\n",
       "      <td>1</td>\n",
       "      <td>1</td>\n",
       "    </tr>\n",
       "    <tr>\n",
       "      <th>2</th>\n",
       "      <td>0</td>\n",
       "      <td>0</td>\n",
       "      <td>0</td>\n",
       "      <td>0</td>\n",
       "      <td>1</td>\n",
       "      <td>0</td>\n",
       "      <td>1</td>\n",
       "      <td>0</td>\n",
       "      <td>0</td>\n",
       "      <td>1</td>\n",
       "      <td>0</td>\n",
       "      <td>0</td>\n",
       "      <td>1</td>\n",
       "      <td>0</td>\n",
       "      <td>1</td>\n",
       "      <td>1</td>\n",
       "    </tr>\n",
       "    <tr>\n",
       "      <th>3</th>\n",
       "      <td>0</td>\n",
       "      <td>1</td>\n",
       "      <td>0</td>\n",
       "      <td>0</td>\n",
       "      <td>1</td>\n",
       "      <td>0</td>\n",
       "      <td>0</td>\n",
       "      <td>0</td>\n",
       "      <td>0</td>\n",
       "      <td>1</td>\n",
       "      <td>0</td>\n",
       "      <td>0</td>\n",
       "      <td>1</td>\n",
       "      <td>0</td>\n",
       "      <td>1</td>\n",
       "      <td>1</td>\n",
       "    </tr>\n",
       "    <tr>\n",
       "      <th>4</th>\n",
       "      <td>0</td>\n",
       "      <td>0</td>\n",
       "      <td>1</td>\n",
       "      <td>0</td>\n",
       "      <td>1</td>\n",
       "      <td>0</td>\n",
       "      <td>1</td>\n",
       "      <td>0</td>\n",
       "      <td>0</td>\n",
       "      <td>1</td>\n",
       "      <td>0</td>\n",
       "      <td>0</td>\n",
       "      <td>1</td>\n",
       "      <td>0</td>\n",
       "      <td>0</td>\n",
       "      <td>0</td>\n",
       "    </tr>\n",
       "  </tbody>\n",
       "</table>\n",
       "</div>"
      ],
      "text/plain": [
       "   INCOME_poverty  INCOME_upper class  INCOME_working class  AGE_26-39  \\\n",
       "0               0                   0                     0          0   \n",
       "1               0                   0                     0          1   \n",
       "2               0                   0                     0          0   \n",
       "3               0                   1                     0          0   \n",
       "4               0                   0                     1          0   \n",
       "\n",
       "   AGE_40-64  AGE_65+  EDUCATION_none  EDUCATION_university  \\\n",
       "0          1        0               0                     1   \n",
       "1          0        0               0                     0   \n",
       "2          1        0               1                     0   \n",
       "3          1        0               0                     0   \n",
       "4          1        0               1                     0   \n",
       "\n",
       "   DRIVING_EXPERIENCE_10-19y  DRIVING_EXPERIENCE_20-29y  \\\n",
       "0                          0                          1   \n",
       "1                          0                          1   \n",
       "2                          0                          1   \n",
       "3                          0                          1   \n",
       "4                          0                          1   \n",
       "\n",
       "   DRIVING_EXPERIENCE_30y+  TYPE_OF_VEHICLE_SUV  TYPE_OF_VEHICLE_Sedan  \\\n",
       "0                        0                    0                      0   \n",
       "1                        0                    0                      0   \n",
       "2                        0                    0                      1   \n",
       "3                        0                    0                      1   \n",
       "4                        0                    0                      1   \n",
       "\n",
       "   TYPE_OF_VEHICLE_Sports Car  GENDER_male  VEHICLE_YEAR_before 2015  \n",
       "0                           1            0                         0  \n",
       "1                           0            1                         1  \n",
       "2                           0            1                         1  \n",
       "3                           0            1                         1  \n",
       "4                           0            0                         0  "
      ]
     },
     "execution_count": 31,
     "metadata": {},
     "output_type": "execute_result"
    }
   ],
   "source": [
    "dum_cols = ['INCOME', 'AGE','EDUCATION','DRIVING_EXPERIENCE','TYPE_OF_VEHICLE','GENDER','VEHICLE_YEAR']\n",
    "df_cat_cols = pd.get_dummies(data=train_df[dum_cols], columns= dum_cols,drop_first = True)\n",
    "df_cat_cols.head()"
   ]
  },
  {
   "cell_type": "code",
   "execution_count": 32,
   "metadata": {
    "scrolled": true
   },
   "outputs": [
    {
     "data": {
      "text/html": [
       "<div>\n",
       "<style scoped>\n",
       "    .dataframe tbody tr th:only-of-type {\n",
       "        vertical-align: middle;\n",
       "    }\n",
       "\n",
       "    .dataframe tbody tr th {\n",
       "        vertical-align: top;\n",
       "    }\n",
       "\n",
       "    .dataframe thead th {\n",
       "        text-align: right;\n",
       "    }\n",
       "</style>\n",
       "<table border=\"1\" class=\"dataframe\">\n",
       "  <thead>\n",
       "    <tr style=\"text-align: right;\">\n",
       "      <th></th>\n",
       "      <th>INCOME_poverty</th>\n",
       "      <th>INCOME_upper class</th>\n",
       "      <th>INCOME_working class</th>\n",
       "      <th>AGE_26-39</th>\n",
       "      <th>AGE_40-64</th>\n",
       "      <th>AGE_65+</th>\n",
       "      <th>EDUCATION_none</th>\n",
       "      <th>EDUCATION_university</th>\n",
       "      <th>DRIVING_EXPERIENCE_10-19y</th>\n",
       "      <th>DRIVING_EXPERIENCE_20-29y</th>\n",
       "      <th>DRIVING_EXPERIENCE_30y+</th>\n",
       "      <th>TYPE_OF_VEHICLE_SUV</th>\n",
       "      <th>TYPE_OF_VEHICLE_Sedan</th>\n",
       "      <th>TYPE_OF_VEHICLE_Sports Car</th>\n",
       "      <th>GENDER_male</th>\n",
       "      <th>VEHICLE_YEAR_before 2015</th>\n",
       "    </tr>\n",
       "  </thead>\n",
       "  <tbody>\n",
       "    <tr>\n",
       "      <th>0</th>\n",
       "      <td>0</td>\n",
       "      <td>0</td>\n",
       "      <td>1</td>\n",
       "      <td>0</td>\n",
       "      <td>1</td>\n",
       "      <td>0</td>\n",
       "      <td>1</td>\n",
       "      <td>0</td>\n",
       "      <td>1</td>\n",
       "      <td>0</td>\n",
       "      <td>0</td>\n",
       "      <td>0</td>\n",
       "      <td>0</td>\n",
       "      <td>0</td>\n",
       "      <td>1</td>\n",
       "      <td>0</td>\n",
       "    </tr>\n",
       "    <tr>\n",
       "      <th>1</th>\n",
       "      <td>0</td>\n",
       "      <td>1</td>\n",
       "      <td>0</td>\n",
       "      <td>1</td>\n",
       "      <td>0</td>\n",
       "      <td>0</td>\n",
       "      <td>0</td>\n",
       "      <td>0</td>\n",
       "      <td>0</td>\n",
       "      <td>1</td>\n",
       "      <td>0</td>\n",
       "      <td>0</td>\n",
       "      <td>1</td>\n",
       "      <td>0</td>\n",
       "      <td>0</td>\n",
       "      <td>1</td>\n",
       "    </tr>\n",
       "    <tr>\n",
       "      <th>2</th>\n",
       "      <td>0</td>\n",
       "      <td>1</td>\n",
       "      <td>0</td>\n",
       "      <td>0</td>\n",
       "      <td>1</td>\n",
       "      <td>0</td>\n",
       "      <td>1</td>\n",
       "      <td>0</td>\n",
       "      <td>1</td>\n",
       "      <td>0</td>\n",
       "      <td>0</td>\n",
       "      <td>1</td>\n",
       "      <td>0</td>\n",
       "      <td>0</td>\n",
       "      <td>1</td>\n",
       "      <td>0</td>\n",
       "    </tr>\n",
       "    <tr>\n",
       "      <th>3</th>\n",
       "      <td>0</td>\n",
       "      <td>1</td>\n",
       "      <td>0</td>\n",
       "      <td>1</td>\n",
       "      <td>0</td>\n",
       "      <td>0</td>\n",
       "      <td>0</td>\n",
       "      <td>0</td>\n",
       "      <td>0</td>\n",
       "      <td>1</td>\n",
       "      <td>0</td>\n",
       "      <td>1</td>\n",
       "      <td>0</td>\n",
       "      <td>0</td>\n",
       "      <td>1</td>\n",
       "      <td>0</td>\n",
       "    </tr>\n",
       "    <tr>\n",
       "      <th>4</th>\n",
       "      <td>0</td>\n",
       "      <td>0</td>\n",
       "      <td>0</td>\n",
       "      <td>0</td>\n",
       "      <td>0</td>\n",
       "      <td>1</td>\n",
       "      <td>1</td>\n",
       "      <td>0</td>\n",
       "      <td>1</td>\n",
       "      <td>0</td>\n",
       "      <td>0</td>\n",
       "      <td>0</td>\n",
       "      <td>0</td>\n",
       "      <td>0</td>\n",
       "      <td>1</td>\n",
       "      <td>0</td>\n",
       "    </tr>\n",
       "  </tbody>\n",
       "</table>\n",
       "</div>"
      ],
      "text/plain": [
       "   INCOME_poverty  INCOME_upper class  INCOME_working class  AGE_26-39  \\\n",
       "0               0                   0                     1          0   \n",
       "1               0                   1                     0          1   \n",
       "2               0                   1                     0          0   \n",
       "3               0                   1                     0          1   \n",
       "4               0                   0                     0          0   \n",
       "\n",
       "   AGE_40-64  AGE_65+  EDUCATION_none  EDUCATION_university  \\\n",
       "0          1        0               1                     0   \n",
       "1          0        0               0                     0   \n",
       "2          1        0               1                     0   \n",
       "3          0        0               0                     0   \n",
       "4          0        1               1                     0   \n",
       "\n",
       "   DRIVING_EXPERIENCE_10-19y  DRIVING_EXPERIENCE_20-29y  \\\n",
       "0                          1                          0   \n",
       "1                          0                          1   \n",
       "2                          1                          0   \n",
       "3                          0                          1   \n",
       "4                          1                          0   \n",
       "\n",
       "   DRIVING_EXPERIENCE_30y+  TYPE_OF_VEHICLE_SUV  TYPE_OF_VEHICLE_Sedan  \\\n",
       "0                        0                    0                      0   \n",
       "1                        0                    0                      1   \n",
       "2                        0                    1                      0   \n",
       "3                        0                    1                      0   \n",
       "4                        0                    0                      0   \n",
       "\n",
       "   TYPE_OF_VEHICLE_Sports Car  GENDER_male  VEHICLE_YEAR_before 2015  \n",
       "0                           0            1                         0  \n",
       "1                           0            0                         1  \n",
       "2                           0            1                         0  \n",
       "3                           0            1                         0  \n",
       "4                           0            1                         0  "
      ]
     },
     "execution_count": 32,
     "metadata": {},
     "output_type": "execute_result"
    }
   ],
   "source": [
    "dum_test_df = pd.get_dummies(data=test_df[dum_cols], columns= dum_cols,drop_first = True)\n",
    "dum_test_df.head()"
   ]
  },
  {
   "cell_type": "code",
   "execution_count": 33,
   "metadata": {},
   "outputs": [
    {
     "name": "stdout",
     "output_type": "stream",
     "text": [
      "(45000, 16)\n",
      "(105000, 16)\n"
     ]
    }
   ],
   "source": [
    "print(dum_test_df.shape)\n",
    "print(df_cat_cols.shape)"
   ]
  },
  {
   "cell_type": "code",
   "execution_count": 34,
   "metadata": {},
   "outputs": [],
   "source": [
    "inter_train_df = train_df.drop(columns=dum_cols,axis=1)\n",
    "inter_test_df = test_df.drop(columns=dum_cols,axis=1)\n"
   ]
  },
  {
   "cell_type": "code",
   "execution_count": 35,
   "metadata": {},
   "outputs": [
    {
     "data": {
      "text/plain": [
       "(105000, 27)"
      ]
     },
     "execution_count": 35,
     "metadata": {},
     "output_type": "execute_result"
    }
   ],
   "source": [
    "new_train_df = pd.concat([inter_train_df,df_cat_cols],axis=1)\n",
    "new_train_df.shape"
   ]
  },
  {
   "cell_type": "code",
   "execution_count": 36,
   "metadata": {
    "scrolled": false
   },
   "outputs": [
    {
     "data": {
      "text/plain": [
       "(45000, 26)"
      ]
     },
     "execution_count": 36,
     "metadata": {},
     "output_type": "execute_result"
    }
   ],
   "source": [
    "new_test_df = pd.concat([inter_test_df,dum_test_df],axis=1)\n",
    "new_test_df.shape"
   ]
  },
  {
   "cell_type": "code",
   "execution_count": null,
   "metadata": {},
   "outputs": [],
   "source": [
    "# Plot the correlation matrix for all variables\n",
    "corr_matrix = new_train_df.corr()\n",
    "plt.figure(figsize=(20,10))\n",
    "sns.heatmap(corr_matrix,annot=True)\n",
    "plt.show()"
   ]
  },
  {
   "cell_type": "markdown",
   "metadata": {},
   "source": [
    "### SPLIT INTO TRAIN AND VALIDATION SET\n"
   ]
  },
  {
   "cell_type": "code",
   "execution_count": 37,
   "metadata": {},
   "outputs": [
    {
     "name": "stdout",
     "output_type": "stream",
     "text": [
      "(105000, 26) (105000,)\n"
     ]
    }
   ],
   "source": [
    "# Split into independent and dependent variables\n",
    "X = new_train_df.drop('OUTCOME',axis=1)\n",
    "y = new_train_df['OUTCOME']\n",
    "print(X.shape,y.shape)"
   ]
  },
  {
   "cell_type": "code",
   "execution_count": 38,
   "metadata": {},
   "outputs": [
    {
     "name": "stdout",
     "output_type": "stream",
     "text": [
      "Train dataset: (73500, 26)\n",
      "Test dataset: (31500, 26)\n"
     ]
    }
   ],
   "source": [
    "# Split into train and test data\n",
    "from sklearn.model_selection import train_test_split\n",
    "X_train, X_test, y_train, y_test = train_test_split(X, y, test_size = 0.3,train_size = 0.7, random_state = 100)\n",
    "print(\"Train dataset:\",X_train.shape)\n",
    "print(\"Test dataset:\",X_test.shape)"
   ]
  },
  {
   "cell_type": "code",
   "execution_count": 39,
   "metadata": {},
   "outputs": [
    {
     "data": {
      "text/html": [
       "<div>\n",
       "<style scoped>\n",
       "    .dataframe tbody tr th:only-of-type {\n",
       "        vertical-align: middle;\n",
       "    }\n",
       "\n",
       "    .dataframe tbody tr th {\n",
       "        vertical-align: top;\n",
       "    }\n",
       "\n",
       "    .dataframe thead th {\n",
       "        text-align: right;\n",
       "    }\n",
       "</style>\n",
       "<table border=\"1\" class=\"dataframe\">\n",
       "  <thead>\n",
       "    <tr style=\"text-align: right;\">\n",
       "      <th></th>\n",
       "      <th>ID</th>\n",
       "      <th>CREDIT_SCORE</th>\n",
       "      <th>VEHICLE_OWNERSHIP</th>\n",
       "      <th>MARRIED</th>\n",
       "      <th>CHILDREN</th>\n",
       "      <th>POSTAL_CODE</th>\n",
       "      <th>ANNUAL_MILEAGE</th>\n",
       "      <th>SPEEDING_VIOLATIONS</th>\n",
       "      <th>DUIS</th>\n",
       "      <th>PAST_ACCIDENTS</th>\n",
       "      <th>...</th>\n",
       "      <th>EDUCATION_none</th>\n",
       "      <th>EDUCATION_university</th>\n",
       "      <th>DRIVING_EXPERIENCE_10-19y</th>\n",
       "      <th>DRIVING_EXPERIENCE_20-29y</th>\n",
       "      <th>DRIVING_EXPERIENCE_30y+</th>\n",
       "      <th>TYPE_OF_VEHICLE_SUV</th>\n",
       "      <th>TYPE_OF_VEHICLE_Sedan</th>\n",
       "      <th>TYPE_OF_VEHICLE_Sports Car</th>\n",
       "      <th>GENDER_male</th>\n",
       "      <th>VEHICLE_YEAR_before 2015</th>\n",
       "    </tr>\n",
       "  </thead>\n",
       "  <tbody>\n",
       "    <tr>\n",
       "      <th>41575</th>\n",
       "      <td>1.177489</td>\n",
       "      <td>1.008126</td>\n",
       "      <td>0.455643</td>\n",
       "      <td>-1.188031</td>\n",
       "      <td>-1.039217</td>\n",
       "      <td>-0.465401</td>\n",
       "      <td>-1.027366</td>\n",
       "      <td>0.962342</td>\n",
       "      <td>-0.219669</td>\n",
       "      <td>1.041035</td>\n",
       "      <td>...</td>\n",
       "      <td>0</td>\n",
       "      <td>1</td>\n",
       "      <td>1</td>\n",
       "      <td>0</td>\n",
       "      <td>0</td>\n",
       "      <td>0</td>\n",
       "      <td>1</td>\n",
       "      <td>0</td>\n",
       "      <td>0</td>\n",
       "      <td>0</td>\n",
       "    </tr>\n",
       "    <tr>\n",
       "      <th>20113</th>\n",
       "      <td>-0.319762</td>\n",
       "      <td>-0.561903</td>\n",
       "      <td>0.455643</td>\n",
       "      <td>0.841729</td>\n",
       "      <td>0.962263</td>\n",
       "      <td>-0.465401</td>\n",
       "      <td>-0.691210</td>\n",
       "      <td>-0.487994</td>\n",
       "      <td>-0.219669</td>\n",
       "      <td>-0.390644</td>\n",
       "      <td>...</td>\n",
       "      <td>1</td>\n",
       "      <td>0</td>\n",
       "      <td>0</td>\n",
       "      <td>0</td>\n",
       "      <td>0</td>\n",
       "      <td>0</td>\n",
       "      <td>1</td>\n",
       "      <td>0</td>\n",
       "      <td>1</td>\n",
       "      <td>0</td>\n",
       "    </tr>\n",
       "    <tr>\n",
       "      <th>97947</th>\n",
       "      <td>0.556973</td>\n",
       "      <td>-0.452617</td>\n",
       "      <td>0.455643</td>\n",
       "      <td>0.841729</td>\n",
       "      <td>-1.039217</td>\n",
       "      <td>-0.465401</td>\n",
       "      <td>-0.355054</td>\n",
       "      <td>-0.487994</td>\n",
       "      <td>-0.219669</td>\n",
       "      <td>0.325196</td>\n",
       "      <td>...</td>\n",
       "      <td>1</td>\n",
       "      <td>0</td>\n",
       "      <td>0</td>\n",
       "      <td>0</td>\n",
       "      <td>0</td>\n",
       "      <td>1</td>\n",
       "      <td>0</td>\n",
       "      <td>0</td>\n",
       "      <td>1</td>\n",
       "      <td>1</td>\n",
       "    </tr>\n",
       "    <tr>\n",
       "      <th>60886</th>\n",
       "      <td>-0.849443</td>\n",
       "      <td>1.724859</td>\n",
       "      <td>0.455643</td>\n",
       "      <td>-1.188031</td>\n",
       "      <td>0.962263</td>\n",
       "      <td>-0.465401</td>\n",
       "      <td>1.325726</td>\n",
       "      <td>0.962342</td>\n",
       "      <td>6.607241</td>\n",
       "      <td>-0.390644</td>\n",
       "      <td>...</td>\n",
       "      <td>0</td>\n",
       "      <td>1</td>\n",
       "      <td>0</td>\n",
       "      <td>0</td>\n",
       "      <td>0</td>\n",
       "      <td>0</td>\n",
       "      <td>0</td>\n",
       "      <td>0</td>\n",
       "      <td>1</td>\n",
       "      <td>0</td>\n",
       "    </tr>\n",
       "    <tr>\n",
       "      <th>56259</th>\n",
       "      <td>0.980015</td>\n",
       "      <td>2.346702</td>\n",
       "      <td>0.455643</td>\n",
       "      <td>0.841729</td>\n",
       "      <td>-1.039217</td>\n",
       "      <td>0.943138</td>\n",
       "      <td>-0.018898</td>\n",
       "      <td>0.962342</td>\n",
       "      <td>1.487059</td>\n",
       "      <td>0.325196</td>\n",
       "      <td>...</td>\n",
       "      <td>0</td>\n",
       "      <td>1</td>\n",
       "      <td>0</td>\n",
       "      <td>1</td>\n",
       "      <td>0</td>\n",
       "      <td>1</td>\n",
       "      <td>0</td>\n",
       "      <td>0</td>\n",
       "      <td>0</td>\n",
       "      <td>1</td>\n",
       "    </tr>\n",
       "  </tbody>\n",
       "</table>\n",
       "<p>5 rows × 26 columns</p>\n",
       "</div>"
      ],
      "text/plain": [
       "             ID  CREDIT_SCORE  VEHICLE_OWNERSHIP   MARRIED  CHILDREN  \\\n",
       "41575  1.177489      1.008126           0.455643 -1.188031 -1.039217   \n",
       "20113 -0.319762     -0.561903           0.455643  0.841729  0.962263   \n",
       "97947  0.556973     -0.452617           0.455643  0.841729 -1.039217   \n",
       "60886 -0.849443      1.724859           0.455643 -1.188031  0.962263   \n",
       "56259  0.980015      2.346702           0.455643  0.841729 -1.039217   \n",
       "\n",
       "       POSTAL_CODE  ANNUAL_MILEAGE  SPEEDING_VIOLATIONS      DUIS  \\\n",
       "41575    -0.465401       -1.027366             0.962342 -0.219669   \n",
       "20113    -0.465401       -0.691210            -0.487994 -0.219669   \n",
       "97947    -0.465401       -0.355054            -0.487994 -0.219669   \n",
       "60886    -0.465401        1.325726             0.962342  6.607241   \n",
       "56259     0.943138       -0.018898             0.962342  1.487059   \n",
       "\n",
       "       PAST_ACCIDENTS  ...  EDUCATION_none  EDUCATION_university  \\\n",
       "41575        1.041035  ...               0                     1   \n",
       "20113       -0.390644  ...               1                     0   \n",
       "97947        0.325196  ...               1                     0   \n",
       "60886       -0.390644  ...               0                     1   \n",
       "56259        0.325196  ...               0                     1   \n",
       "\n",
       "       DRIVING_EXPERIENCE_10-19y  DRIVING_EXPERIENCE_20-29y  \\\n",
       "41575                          1                          0   \n",
       "20113                          0                          0   \n",
       "97947                          0                          0   \n",
       "60886                          0                          0   \n",
       "56259                          0                          1   \n",
       "\n",
       "       DRIVING_EXPERIENCE_30y+  TYPE_OF_VEHICLE_SUV  TYPE_OF_VEHICLE_Sedan  \\\n",
       "41575                        0                    0                      1   \n",
       "20113                        0                    0                      1   \n",
       "97947                        0                    1                      0   \n",
       "60886                        0                    0                      0   \n",
       "56259                        0                    1                      0   \n",
       "\n",
       "       TYPE_OF_VEHICLE_Sports Car  GENDER_male  VEHICLE_YEAR_before 2015  \n",
       "41575                           0            0                         0  \n",
       "20113                           0            1                         0  \n",
       "97947                           0            1                         1  \n",
       "60886                           0            1                         0  \n",
       "56259                           0            0                         1  \n",
       "\n",
       "[5 rows x 26 columns]"
      ]
     },
     "execution_count": 39,
     "metadata": {},
     "output_type": "execute_result"
    }
   ],
   "source": [
    "# Scaling numerical columns for train dataset\n",
    "from sklearn.preprocessing import StandardScaler\n",
    "scaler=StandardScaler()\n",
    "num_cols = X_train.select_dtypes(include=['float64','int64']).columns\n",
    "X_train[num_cols] = scaler.fit_transform(X_train[num_cols])\n",
    "X_train.head()"
   ]
  },
  {
   "cell_type": "code",
   "execution_count": 40,
   "metadata": {
    "scrolled": true
   },
   "outputs": [
    {
     "data": {
      "text/html": [
       "<div>\n",
       "<style scoped>\n",
       "    .dataframe tbody tr th:only-of-type {\n",
       "        vertical-align: middle;\n",
       "    }\n",
       "\n",
       "    .dataframe tbody tr th {\n",
       "        vertical-align: top;\n",
       "    }\n",
       "\n",
       "    .dataframe thead th {\n",
       "        text-align: right;\n",
       "    }\n",
       "</style>\n",
       "<table border=\"1\" class=\"dataframe\">\n",
       "  <thead>\n",
       "    <tr style=\"text-align: right;\">\n",
       "      <th></th>\n",
       "      <th>ID</th>\n",
       "      <th>CREDIT_SCORE</th>\n",
       "      <th>VEHICLE_OWNERSHIP</th>\n",
       "      <th>MARRIED</th>\n",
       "      <th>CHILDREN</th>\n",
       "      <th>POSTAL_CODE</th>\n",
       "      <th>ANNUAL_MILEAGE</th>\n",
       "      <th>SPEEDING_VIOLATIONS</th>\n",
       "      <th>DUIS</th>\n",
       "      <th>PAST_ACCIDENTS</th>\n",
       "      <th>...</th>\n",
       "      <th>EDUCATION_none</th>\n",
       "      <th>EDUCATION_university</th>\n",
       "      <th>DRIVING_EXPERIENCE_10-19y</th>\n",
       "      <th>DRIVING_EXPERIENCE_20-29y</th>\n",
       "      <th>DRIVING_EXPERIENCE_30y+</th>\n",
       "      <th>TYPE_OF_VEHICLE_SUV</th>\n",
       "      <th>TYPE_OF_VEHICLE_Sedan</th>\n",
       "      <th>TYPE_OF_VEHICLE_Sports Car</th>\n",
       "      <th>GENDER_male</th>\n",
       "      <th>VEHICLE_YEAR_before 2015</th>\n",
       "    </tr>\n",
       "  </thead>\n",
       "  <tbody>\n",
       "    <tr>\n",
       "      <th>53620</th>\n",
       "      <td>-0.416194</td>\n",
       "      <td>-0.812902</td>\n",
       "      <td>0.455643</td>\n",
       "      <td>-1.188031</td>\n",
       "      <td>0.962263</td>\n",
       "      <td>-0.465401</td>\n",
       "      <td>1.325726</td>\n",
       "      <td>1.687510</td>\n",
       "      <td>-0.219669</td>\n",
       "      <td>-0.390644</td>\n",
       "      <td>...</td>\n",
       "      <td>0</td>\n",
       "      <td>1</td>\n",
       "      <td>0</td>\n",
       "      <td>1</td>\n",
       "      <td>0</td>\n",
       "      <td>0</td>\n",
       "      <td>1</td>\n",
       "      <td>0</td>\n",
       "      <td>0</td>\n",
       "      <td>1</td>\n",
       "    </tr>\n",
       "    <tr>\n",
       "      <th>60370</th>\n",
       "      <td>-0.713459</td>\n",
       "      <td>0.696816</td>\n",
       "      <td>-2.194701</td>\n",
       "      <td>0.841729</td>\n",
       "      <td>0.962263</td>\n",
       "      <td>0.710961</td>\n",
       "      <td>0.989570</td>\n",
       "      <td>-0.487994</td>\n",
       "      <td>-0.219669</td>\n",
       "      <td>0.325196</td>\n",
       "      <td>...</td>\n",
       "      <td>1</td>\n",
       "      <td>0</td>\n",
       "      <td>0</td>\n",
       "      <td>1</td>\n",
       "      <td>0</td>\n",
       "      <td>0</td>\n",
       "      <td>1</td>\n",
       "      <td>0</td>\n",
       "      <td>0</td>\n",
       "      <td>0</td>\n",
       "    </tr>\n",
       "    <tr>\n",
       "      <th>44788</th>\n",
       "      <td>1.782839</td>\n",
       "      <td>-0.352202</td>\n",
       "      <td>0.455643</td>\n",
       "      <td>0.841729</td>\n",
       "      <td>-1.039217</td>\n",
       "      <td>-0.465401</td>\n",
       "      <td>-1.363522</td>\n",
       "      <td>-0.487994</td>\n",
       "      <td>-0.219669</td>\n",
       "      <td>-0.390644</td>\n",
       "      <td>...</td>\n",
       "      <td>1</td>\n",
       "      <td>0</td>\n",
       "      <td>0</td>\n",
       "      <td>1</td>\n",
       "      <td>0</td>\n",
       "      <td>0</td>\n",
       "      <td>0</td>\n",
       "      <td>1</td>\n",
       "      <td>1</td>\n",
       "      <td>0</td>\n",
       "    </tr>\n",
       "    <tr>\n",
       "      <th>29000</th>\n",
       "      <td>0.569906</td>\n",
       "      <td>-0.337783</td>\n",
       "      <td>0.455643</td>\n",
       "      <td>0.841729</td>\n",
       "      <td>-1.039217</td>\n",
       "      <td>-0.196232</td>\n",
       "      <td>-0.018898</td>\n",
       "      <td>-0.487994</td>\n",
       "      <td>-0.219669</td>\n",
       "      <td>-0.390644</td>\n",
       "      <td>...</td>\n",
       "      <td>0</td>\n",
       "      <td>0</td>\n",
       "      <td>0</td>\n",
       "      <td>1</td>\n",
       "      <td>0</td>\n",
       "      <td>0</td>\n",
       "      <td>0</td>\n",
       "      <td>0</td>\n",
       "      <td>1</td>\n",
       "      <td>1</td>\n",
       "    </tr>\n",
       "    <tr>\n",
       "      <th>19049</th>\n",
       "      <td>-1.323538</td>\n",
       "      <td>0.252370</td>\n",
       "      <td>-2.194701</td>\n",
       "      <td>0.841729</td>\n",
       "      <td>-1.039217</td>\n",
       "      <td>-0.465401</td>\n",
       "      <td>-2.035834</td>\n",
       "      <td>-0.487994</td>\n",
       "      <td>-0.219669</td>\n",
       "      <td>-0.390644</td>\n",
       "      <td>...</td>\n",
       "      <td>1</td>\n",
       "      <td>0</td>\n",
       "      <td>0</td>\n",
       "      <td>0</td>\n",
       "      <td>0</td>\n",
       "      <td>0</td>\n",
       "      <td>0</td>\n",
       "      <td>0</td>\n",
       "      <td>1</td>\n",
       "      <td>1</td>\n",
       "    </tr>\n",
       "  </tbody>\n",
       "</table>\n",
       "<p>5 rows × 26 columns</p>\n",
       "</div>"
      ],
      "text/plain": [
       "             ID  CREDIT_SCORE  VEHICLE_OWNERSHIP   MARRIED  CHILDREN  \\\n",
       "53620 -0.416194     -0.812902           0.455643 -1.188031  0.962263   \n",
       "60370 -0.713459      0.696816          -2.194701  0.841729  0.962263   \n",
       "44788  1.782839     -0.352202           0.455643  0.841729 -1.039217   \n",
       "29000  0.569906     -0.337783           0.455643  0.841729 -1.039217   \n",
       "19049 -1.323538      0.252370          -2.194701  0.841729 -1.039217   \n",
       "\n",
       "       POSTAL_CODE  ANNUAL_MILEAGE  SPEEDING_VIOLATIONS      DUIS  \\\n",
       "53620    -0.465401        1.325726             1.687510 -0.219669   \n",
       "60370     0.710961        0.989570            -0.487994 -0.219669   \n",
       "44788    -0.465401       -1.363522            -0.487994 -0.219669   \n",
       "29000    -0.196232       -0.018898            -0.487994 -0.219669   \n",
       "19049    -0.465401       -2.035834            -0.487994 -0.219669   \n",
       "\n",
       "       PAST_ACCIDENTS  ...  EDUCATION_none  EDUCATION_university  \\\n",
       "53620       -0.390644  ...               0                     1   \n",
       "60370        0.325196  ...               1                     0   \n",
       "44788       -0.390644  ...               1                     0   \n",
       "29000       -0.390644  ...               0                     0   \n",
       "19049       -0.390644  ...               1                     0   \n",
       "\n",
       "       DRIVING_EXPERIENCE_10-19y  DRIVING_EXPERIENCE_20-29y  \\\n",
       "53620                          0                          1   \n",
       "60370                          0                          1   \n",
       "44788                          0                          1   \n",
       "29000                          0                          1   \n",
       "19049                          0                          0   \n",
       "\n",
       "       DRIVING_EXPERIENCE_30y+  TYPE_OF_VEHICLE_SUV  TYPE_OF_VEHICLE_Sedan  \\\n",
       "53620                        0                    0                      1   \n",
       "60370                        0                    0                      1   \n",
       "44788                        0                    0                      0   \n",
       "29000                        0                    0                      0   \n",
       "19049                        0                    0                      0   \n",
       "\n",
       "       TYPE_OF_VEHICLE_Sports Car  GENDER_male  VEHICLE_YEAR_before 2015  \n",
       "53620                           0            0                         1  \n",
       "60370                           0            0                         0  \n",
       "44788                           1            1                         0  \n",
       "29000                           0            1                         1  \n",
       "19049                           0            1                         1  \n",
       "\n",
       "[5 rows x 26 columns]"
      ]
     },
     "execution_count": 40,
     "metadata": {},
     "output_type": "execute_result"
    }
   ],
   "source": [
    "# Apply Scaling to test dataset\n",
    "num_cols = X_test.select_dtypes(include=['float64','int64']).columns\n",
    "X_test[num_cols] = scaler.transform(X_test[num_cols])\n",
    "X_test.head()"
   ]
  },
  {
   "cell_type": "code",
   "execution_count": 43,
   "metadata": {
    "scrolled": true
   },
   "outputs": [
    {
     "data": {
      "text/html": [
       "<div>\n",
       "<style scoped>\n",
       "    .dataframe tbody tr th:only-of-type {\n",
       "        vertical-align: middle;\n",
       "    }\n",
       "\n",
       "    .dataframe tbody tr th {\n",
       "        vertical-align: top;\n",
       "    }\n",
       "\n",
       "    .dataframe thead th {\n",
       "        text-align: right;\n",
       "    }\n",
       "</style>\n",
       "<table border=\"1\" class=\"dataframe\">\n",
       "  <thead>\n",
       "    <tr style=\"text-align: right;\">\n",
       "      <th></th>\n",
       "      <th>ID</th>\n",
       "      <th>CREDIT_SCORE</th>\n",
       "      <th>VEHICLE_OWNERSHIP</th>\n",
       "      <th>MARRIED</th>\n",
       "      <th>CHILDREN</th>\n",
       "      <th>POSTAL_CODE</th>\n",
       "      <th>ANNUAL_MILEAGE</th>\n",
       "      <th>SPEEDING_VIOLATIONS</th>\n",
       "      <th>DUIS</th>\n",
       "      <th>PAST_ACCIDENTS</th>\n",
       "      <th>...</th>\n",
       "      <th>EDUCATION_none</th>\n",
       "      <th>EDUCATION_university</th>\n",
       "      <th>DRIVING_EXPERIENCE_10-19y</th>\n",
       "      <th>DRIVING_EXPERIENCE_20-29y</th>\n",
       "      <th>DRIVING_EXPERIENCE_30y+</th>\n",
       "      <th>TYPE_OF_VEHICLE_SUV</th>\n",
       "      <th>TYPE_OF_VEHICLE_Sedan</th>\n",
       "      <th>TYPE_OF_VEHICLE_Sports Car</th>\n",
       "      <th>GENDER_male</th>\n",
       "      <th>VEHICLE_YEAR_before 2015</th>\n",
       "    </tr>\n",
       "  </thead>\n",
       "  <tbody>\n",
       "    <tr>\n",
       "      <th>0</th>\n",
       "      <td>-0.150251</td>\n",
       "      <td>1.537174</td>\n",
       "      <td>0.455643</td>\n",
       "      <td>-1.188031</td>\n",
       "      <td>0.962263</td>\n",
       "      <td>-0.465401</td>\n",
       "      <td>-0.355054</td>\n",
       "      <td>-0.487994</td>\n",
       "      <td>-0.219669</td>\n",
       "      <td>-0.390644</td>\n",
       "      <td>...</td>\n",
       "      <td>1</td>\n",
       "      <td>0</td>\n",
       "      <td>1</td>\n",
       "      <td>0</td>\n",
       "      <td>0</td>\n",
       "      <td>0</td>\n",
       "      <td>0</td>\n",
       "      <td>0</td>\n",
       "      <td>1</td>\n",
       "      <td>0</td>\n",
       "    </tr>\n",
       "    <tr>\n",
       "      <th>1</th>\n",
       "      <td>-1.272999</td>\n",
       "      <td>-1.870570</td>\n",
       "      <td>0.455643</td>\n",
       "      <td>-1.188031</td>\n",
       "      <td>-1.039217</td>\n",
       "      <td>0.959035</td>\n",
       "      <td>0.653414</td>\n",
       "      <td>-0.487994</td>\n",
       "      <td>-0.219669</td>\n",
       "      <td>-0.390644</td>\n",
       "      <td>...</td>\n",
       "      <td>0</td>\n",
       "      <td>0</td>\n",
       "      <td>0</td>\n",
       "      <td>1</td>\n",
       "      <td>0</td>\n",
       "      <td>0</td>\n",
       "      <td>1</td>\n",
       "      <td>0</td>\n",
       "      <td>0</td>\n",
       "      <td>1</td>\n",
       "    </tr>\n",
       "    <tr>\n",
       "      <th>2</th>\n",
       "      <td>0.389405</td>\n",
       "      <td>0.132416</td>\n",
       "      <td>-2.194701</td>\n",
       "      <td>0.841729</td>\n",
       "      <td>-1.039217</td>\n",
       "      <td>-0.465401</td>\n",
       "      <td>0.317258</td>\n",
       "      <td>-0.487994</td>\n",
       "      <td>-0.219669</td>\n",
       "      <td>-0.390644</td>\n",
       "      <td>...</td>\n",
       "      <td>1</td>\n",
       "      <td>0</td>\n",
       "      <td>1</td>\n",
       "      <td>0</td>\n",
       "      <td>0</td>\n",
       "      <td>1</td>\n",
       "      <td>0</td>\n",
       "      <td>0</td>\n",
       "      <td>1</td>\n",
       "      <td>0</td>\n",
       "    </tr>\n",
       "    <tr>\n",
       "      <th>3</th>\n",
       "      <td>-0.687872</td>\n",
       "      <td>0.631769</td>\n",
       "      <td>0.455643</td>\n",
       "      <td>0.841729</td>\n",
       "      <td>0.962263</td>\n",
       "      <td>-0.465401</td>\n",
       "      <td>1.661882</td>\n",
       "      <td>0.237174</td>\n",
       "      <td>-0.219669</td>\n",
       "      <td>-0.390644</td>\n",
       "      <td>...</td>\n",
       "      <td>0</td>\n",
       "      <td>0</td>\n",
       "      <td>0</td>\n",
       "      <td>1</td>\n",
       "      <td>0</td>\n",
       "      <td>1</td>\n",
       "      <td>0</td>\n",
       "      <td>0</td>\n",
       "      <td>1</td>\n",
       "      <td>0</td>\n",
       "    </tr>\n",
       "    <tr>\n",
       "      <th>4</th>\n",
       "      <td>0.474736</td>\n",
       "      <td>1.109694</td>\n",
       "      <td>-2.194701</td>\n",
       "      <td>-1.188031</td>\n",
       "      <td>0.962263</td>\n",
       "      <td>4.426925</td>\n",
       "      <td>0.989570</td>\n",
       "      <td>0.962342</td>\n",
       "      <td>-0.219669</td>\n",
       "      <td>-0.390644</td>\n",
       "      <td>...</td>\n",
       "      <td>1</td>\n",
       "      <td>0</td>\n",
       "      <td>1</td>\n",
       "      <td>0</td>\n",
       "      <td>0</td>\n",
       "      <td>0</td>\n",
       "      <td>0</td>\n",
       "      <td>0</td>\n",
       "      <td>1</td>\n",
       "      <td>0</td>\n",
       "    </tr>\n",
       "  </tbody>\n",
       "</table>\n",
       "<p>5 rows × 26 columns</p>\n",
       "</div>"
      ],
      "text/plain": [
       "         ID  CREDIT_SCORE  VEHICLE_OWNERSHIP   MARRIED  CHILDREN  POSTAL_CODE  \\\n",
       "0 -0.150251      1.537174           0.455643 -1.188031  0.962263    -0.465401   \n",
       "1 -1.272999     -1.870570           0.455643 -1.188031 -1.039217     0.959035   \n",
       "2  0.389405      0.132416          -2.194701  0.841729 -1.039217    -0.465401   \n",
       "3 -0.687872      0.631769           0.455643  0.841729  0.962263    -0.465401   \n",
       "4  0.474736      1.109694          -2.194701 -1.188031  0.962263     4.426925   \n",
       "\n",
       "   ANNUAL_MILEAGE  SPEEDING_VIOLATIONS      DUIS  PAST_ACCIDENTS  ...  \\\n",
       "0       -0.355054            -0.487994 -0.219669       -0.390644  ...   \n",
       "1        0.653414            -0.487994 -0.219669       -0.390644  ...   \n",
       "2        0.317258            -0.487994 -0.219669       -0.390644  ...   \n",
       "3        1.661882             0.237174 -0.219669       -0.390644  ...   \n",
       "4        0.989570             0.962342 -0.219669       -0.390644  ...   \n",
       "\n",
       "   EDUCATION_none  EDUCATION_university  DRIVING_EXPERIENCE_10-19y  \\\n",
       "0               1                     0                          1   \n",
       "1               0                     0                          0   \n",
       "2               1                     0                          1   \n",
       "3               0                     0                          0   \n",
       "4               1                     0                          1   \n",
       "\n",
       "   DRIVING_EXPERIENCE_20-29y  DRIVING_EXPERIENCE_30y+  TYPE_OF_VEHICLE_SUV  \\\n",
       "0                          0                        0                    0   \n",
       "1                          1                        0                    0   \n",
       "2                          0                        0                    1   \n",
       "3                          1                        0                    1   \n",
       "4                          0                        0                    0   \n",
       "\n",
       "   TYPE_OF_VEHICLE_Sedan  TYPE_OF_VEHICLE_Sports Car  GENDER_male  \\\n",
       "0                      0                           0            1   \n",
       "1                      1                           0            0   \n",
       "2                      0                           0            1   \n",
       "3                      0                           0            1   \n",
       "4                      0                           0            1   \n",
       "\n",
       "   VEHICLE_YEAR_before 2015  \n",
       "0                         0  \n",
       "1                         1  \n",
       "2                         0  \n",
       "3                         0  \n",
       "4                         0  \n",
       "\n",
       "[5 rows x 26 columns]"
      ]
     },
     "execution_count": 43,
     "metadata": {},
     "output_type": "execute_result"
    }
   ],
   "source": [
    "# Apply Scaling to test dataset\n",
    "# num_cols = X_test.select_dtypes(include=['float64','int64']).columns\n",
    "new_test_df[num_cols] = scaler.transform(new_test_df[num_cols])\n",
    "new_test_df.head()"
   ]
  },
  {
   "cell_type": "code",
   "execution_count": 45,
   "metadata": {},
   "outputs": [],
   "source": [
    "from sklearn.linear_model import LogisticRegression\n"
   ]
  },
  {
   "cell_type": "markdown",
   "metadata": {},
   "source": [
    "### Training"
   ]
  },
  {
   "cell_type": "code",
   "execution_count": null,
   "metadata": {},
   "outputs": [],
   "source": [
    "slr = LogisticRegression(random_state=0)"
   ]
  },
  {
   "cell_type": "code",
   "execution_count": 46,
   "metadata": {},
   "outputs": [
    {
     "data": {
      "text/plain": [
       "LogisticRegression(random_state=0)"
      ]
     },
     "execution_count": 46,
     "metadata": {},
     "output_type": "execute_result"
    }
   ],
   "source": [
    "slr.fit(X_train,y_train)"
   ]
  },
  {
   "cell_type": "code",
   "execution_count": 64,
   "metadata": {},
   "outputs": [
    {
     "data": {
      "text/plain": [
       "0.0    60622\n",
       "1.0    44378\n",
       "Name: OUTCOME, dtype: int64"
      ]
     },
     "execution_count": 64,
     "metadata": {},
     "output_type": "execute_result"
    }
   ],
   "source": [
    "new_train_df['OUTCOME'].value_counts(dropna=False)"
   ]
  },
  {
   "cell_type": "markdown",
   "metadata": {},
   "source": [
    "### Predict with test data"
   ]
  },
  {
   "cell_type": "code",
   "execution_count": 47,
   "metadata": {},
   "outputs": [],
   "source": [
    "y_pred = slr.predict(X_train)"
   ]
  },
  {
   "cell_type": "code",
   "execution_count": 49,
   "metadata": {},
   "outputs": [
    {
     "data": {
      "text/plain": [
       "0.6807772770178983"
      ]
     },
     "execution_count": 49,
     "metadata": {},
     "output_type": "execute_result"
    }
   ],
   "source": [
    "from sklearn.metrics import log_loss\n",
    "log_loss(y_test,slr.predict_proba(X_test))"
   ]
  },
  {
   "cell_type": "code",
   "execution_count": 54,
   "metadata": {},
   "outputs": [],
   "source": [
    "y_test_pred = slr.predict(X_test)"
   ]
  },
  {
   "cell_type": "code",
   "execution_count": 55,
   "metadata": {},
   "outputs": [],
   "source": [
    "pd.DataFrame(y_test_pred).to_csv(\"submission_28102022.csv\",index=False,header=False)"
   ]
  },
  {
   "cell_type": "markdown",
   "metadata": {},
   "source": [
    "### Evaluate using unseen dataset"
   ]
  },
  {
   "cell_type": "code",
   "execution_count": 78,
   "metadata": {},
   "outputs": [],
   "source": [
    "y_exa = slr.predict_proba(new_test_df)"
   ]
  },
  {
   "cell_type": "code",
   "execution_count": 79,
   "metadata": {},
   "outputs": [],
   "source": [
    "pd.DataFrame(y_exa).to_csv(\"submission_4.csv\",index=False,header=False)"
   ]
  },
  {
   "cell_type": "code",
   "execution_count": 82,
   "metadata": {},
   "outputs": [
    {
     "data": {
      "text/plain": [
       "(45000, 2)"
      ]
     },
     "execution_count": 82,
     "metadata": {},
     "output_type": "execute_result"
    }
   ],
   "source": [
    "y_exa.shape"
   ]
  },
  {
   "cell_type": "code",
   "execution_count": 53,
   "metadata": {
    "scrolled": true
   },
   "outputs": [
    {
     "data": {
      "text/html": [
       "<div>\n",
       "<style scoped>\n",
       "    .dataframe tbody tr th:only-of-type {\n",
       "        vertical-align: middle;\n",
       "    }\n",
       "\n",
       "    .dataframe tbody tr th {\n",
       "        vertical-align: top;\n",
       "    }\n",
       "\n",
       "    .dataframe thead th {\n",
       "        text-align: right;\n",
       "    }\n",
       "</style>\n",
       "<table border=\"1\" class=\"dataframe\">\n",
       "  <thead>\n",
       "    <tr style=\"text-align: right;\">\n",
       "      <th></th>\n",
       "      <th>ID</th>\n",
       "      <th>CREDIT_SCORE</th>\n",
       "      <th>VEHICLE_OWNERSHIP</th>\n",
       "      <th>MARRIED</th>\n",
       "      <th>CHILDREN</th>\n",
       "      <th>POSTAL_CODE</th>\n",
       "      <th>ANNUAL_MILEAGE</th>\n",
       "      <th>SPEEDING_VIOLATIONS</th>\n",
       "      <th>DUIS</th>\n",
       "      <th>PAST_ACCIDENTS</th>\n",
       "      <th>...</th>\n",
       "      <th>EDUCATION_none</th>\n",
       "      <th>EDUCATION_university</th>\n",
       "      <th>DRIVING_EXPERIENCE_10-19y</th>\n",
       "      <th>DRIVING_EXPERIENCE_20-29y</th>\n",
       "      <th>DRIVING_EXPERIENCE_30y+</th>\n",
       "      <th>TYPE_OF_VEHICLE_SUV</th>\n",
       "      <th>TYPE_OF_VEHICLE_Sedan</th>\n",
       "      <th>TYPE_OF_VEHICLE_Sports Car</th>\n",
       "      <th>GENDER_male</th>\n",
       "      <th>VEHICLE_YEAR_before 2015</th>\n",
       "    </tr>\n",
       "  </thead>\n",
       "  <tbody>\n",
       "    <tr>\n",
       "      <th>0</th>\n",
       "      <td>-0.150251</td>\n",
       "      <td>1.537174</td>\n",
       "      <td>0.455643</td>\n",
       "      <td>-1.188031</td>\n",
       "      <td>0.962263</td>\n",
       "      <td>-0.465401</td>\n",
       "      <td>-0.355054</td>\n",
       "      <td>-0.487994</td>\n",
       "      <td>-0.219669</td>\n",
       "      <td>-0.390644</td>\n",
       "      <td>...</td>\n",
       "      <td>1</td>\n",
       "      <td>0</td>\n",
       "      <td>1</td>\n",
       "      <td>0</td>\n",
       "      <td>0</td>\n",
       "      <td>0</td>\n",
       "      <td>0</td>\n",
       "      <td>0</td>\n",
       "      <td>1</td>\n",
       "      <td>0</td>\n",
       "    </tr>\n",
       "    <tr>\n",
       "      <th>1</th>\n",
       "      <td>-1.272999</td>\n",
       "      <td>-1.870570</td>\n",
       "      <td>0.455643</td>\n",
       "      <td>-1.188031</td>\n",
       "      <td>-1.039217</td>\n",
       "      <td>0.959035</td>\n",
       "      <td>0.653414</td>\n",
       "      <td>-0.487994</td>\n",
       "      <td>-0.219669</td>\n",
       "      <td>-0.390644</td>\n",
       "      <td>...</td>\n",
       "      <td>0</td>\n",
       "      <td>0</td>\n",
       "      <td>0</td>\n",
       "      <td>1</td>\n",
       "      <td>0</td>\n",
       "      <td>0</td>\n",
       "      <td>1</td>\n",
       "      <td>0</td>\n",
       "      <td>0</td>\n",
       "      <td>1</td>\n",
       "    </tr>\n",
       "    <tr>\n",
       "      <th>2</th>\n",
       "      <td>0.389405</td>\n",
       "      <td>0.132416</td>\n",
       "      <td>-2.194701</td>\n",
       "      <td>0.841729</td>\n",
       "      <td>-1.039217</td>\n",
       "      <td>-0.465401</td>\n",
       "      <td>0.317258</td>\n",
       "      <td>-0.487994</td>\n",
       "      <td>-0.219669</td>\n",
       "      <td>-0.390644</td>\n",
       "      <td>...</td>\n",
       "      <td>1</td>\n",
       "      <td>0</td>\n",
       "      <td>1</td>\n",
       "      <td>0</td>\n",
       "      <td>0</td>\n",
       "      <td>1</td>\n",
       "      <td>0</td>\n",
       "      <td>0</td>\n",
       "      <td>1</td>\n",
       "      <td>0</td>\n",
       "    </tr>\n",
       "    <tr>\n",
       "      <th>3</th>\n",
       "      <td>-0.687872</td>\n",
       "      <td>0.631769</td>\n",
       "      <td>0.455643</td>\n",
       "      <td>0.841729</td>\n",
       "      <td>0.962263</td>\n",
       "      <td>-0.465401</td>\n",
       "      <td>1.661882</td>\n",
       "      <td>0.237174</td>\n",
       "      <td>-0.219669</td>\n",
       "      <td>-0.390644</td>\n",
       "      <td>...</td>\n",
       "      <td>0</td>\n",
       "      <td>0</td>\n",
       "      <td>0</td>\n",
       "      <td>1</td>\n",
       "      <td>0</td>\n",
       "      <td>1</td>\n",
       "      <td>0</td>\n",
       "      <td>0</td>\n",
       "      <td>1</td>\n",
       "      <td>0</td>\n",
       "    </tr>\n",
       "    <tr>\n",
       "      <th>4</th>\n",
       "      <td>0.474736</td>\n",
       "      <td>1.109694</td>\n",
       "      <td>-2.194701</td>\n",
       "      <td>-1.188031</td>\n",
       "      <td>0.962263</td>\n",
       "      <td>4.426925</td>\n",
       "      <td>0.989570</td>\n",
       "      <td>0.962342</td>\n",
       "      <td>-0.219669</td>\n",
       "      <td>-0.390644</td>\n",
       "      <td>...</td>\n",
       "      <td>1</td>\n",
       "      <td>0</td>\n",
       "      <td>1</td>\n",
       "      <td>0</td>\n",
       "      <td>0</td>\n",
       "      <td>0</td>\n",
       "      <td>0</td>\n",
       "      <td>0</td>\n",
       "      <td>1</td>\n",
       "      <td>0</td>\n",
       "    </tr>\n",
       "  </tbody>\n",
       "</table>\n",
       "<p>5 rows × 26 columns</p>\n",
       "</div>"
      ],
      "text/plain": [
       "         ID  CREDIT_SCORE  VEHICLE_OWNERSHIP   MARRIED  CHILDREN  POSTAL_CODE  \\\n",
       "0 -0.150251      1.537174           0.455643 -1.188031  0.962263    -0.465401   \n",
       "1 -1.272999     -1.870570           0.455643 -1.188031 -1.039217     0.959035   \n",
       "2  0.389405      0.132416          -2.194701  0.841729 -1.039217    -0.465401   \n",
       "3 -0.687872      0.631769           0.455643  0.841729  0.962263    -0.465401   \n",
       "4  0.474736      1.109694          -2.194701 -1.188031  0.962263     4.426925   \n",
       "\n",
       "   ANNUAL_MILEAGE  SPEEDING_VIOLATIONS      DUIS  PAST_ACCIDENTS  ...  \\\n",
       "0       -0.355054            -0.487994 -0.219669       -0.390644  ...   \n",
       "1        0.653414            -0.487994 -0.219669       -0.390644  ...   \n",
       "2        0.317258            -0.487994 -0.219669       -0.390644  ...   \n",
       "3        1.661882             0.237174 -0.219669       -0.390644  ...   \n",
       "4        0.989570             0.962342 -0.219669       -0.390644  ...   \n",
       "\n",
       "   EDUCATION_none  EDUCATION_university  DRIVING_EXPERIENCE_10-19y  \\\n",
       "0               1                     0                          1   \n",
       "1               0                     0                          0   \n",
       "2               1                     0                          1   \n",
       "3               0                     0                          0   \n",
       "4               1                     0                          1   \n",
       "\n",
       "   DRIVING_EXPERIENCE_20-29y  DRIVING_EXPERIENCE_30y+  TYPE_OF_VEHICLE_SUV  \\\n",
       "0                          0                        0                    0   \n",
       "1                          1                        0                    0   \n",
       "2                          0                        0                    1   \n",
       "3                          1                        0                    1   \n",
       "4                          0                        0                    0   \n",
       "\n",
       "   TYPE_OF_VEHICLE_Sedan  TYPE_OF_VEHICLE_Sports Car  GENDER_male  \\\n",
       "0                      0                           0            1   \n",
       "1                      1                           0            0   \n",
       "2                      0                           0            1   \n",
       "3                      0                           0            1   \n",
       "4                      0                           0            1   \n",
       "\n",
       "   VEHICLE_YEAR_before 2015  \n",
       "0                         0  \n",
       "1                         1  \n",
       "2                         0  \n",
       "3                         0  \n",
       "4                         0  \n",
       "\n",
       "[5 rows x 26 columns]"
      ]
     },
     "execution_count": 53,
     "metadata": {},
     "output_type": "execute_result"
    }
   ],
   "source": [
    "new_test_df.head()"
   ]
  },
  {
   "cell_type": "markdown",
   "metadata": {},
   "source": [
    "## Baseline XGB classifier\n"
   ]
  },
  {
   "cell_type": "code",
   "execution_count": 66,
   "metadata": {},
   "outputs": [],
   "source": [
    "import xgboost as xgb\n",
    "\n",
    "xgb_cl = xgb.XGBClassifier()"
   ]
  },
  {
   "cell_type": "code",
   "execution_count": 67,
   "metadata": {},
   "outputs": [
    {
     "name": "stderr",
     "output_type": "stream",
     "text": [
      "C:\\Users\\welcome\\anaconda3\\lib\\site-packages\\xgboost\\sklearn.py:1224: UserWarning: The use of label encoder in XGBClassifier is deprecated and will be removed in a future release. To remove this warning, do the following: 1) Pass option use_label_encoder=False when constructing XGBClassifier object; and 2) Encode your labels (y) as integers starting with 0, i.e. 0, 1, 2, ..., [num_class - 1].\n",
      "  warnings.warn(label_encoder_deprecation_msg, UserWarning)\n"
     ]
    },
    {
     "name": "stdout",
     "output_type": "stream",
     "text": [
      "[22:05:28] WARNING: C:/Users/Administrator/workspace/xgboost-win64_release_1.5.1/src/learner.cc:1115: Starting in XGBoost 1.3.0, the default evaluation metric used with the objective 'binary:logistic' was changed from 'error' to 'logloss'. Explicitly set eval_metric if you'd like to restore the old behavior.\n"
     ]
    },
    {
     "data": {
      "text/plain": [
       "XGBClassifier(base_score=0.5, booster='gbtree', colsample_bylevel=1,\n",
       "              colsample_bynode=1, colsample_bytree=1, enable_categorical=False,\n",
       "              gamma=0, gpu_id=-1, importance_type=None,\n",
       "              interaction_constraints='', learning_rate=0.300000012,\n",
       "              max_delta_step=0, max_depth=6, min_child_weight=1, missing=nan,\n",
       "              monotone_constraints='()', n_estimators=100, n_jobs=4,\n",
       "              num_parallel_tree=1, predictor='auto', random_state=0,\n",
       "              reg_alpha=0, reg_lambda=1, scale_pos_weight=1, subsample=1,\n",
       "              tree_method='exact', validate_parameters=1, verbosity=None)"
      ]
     },
     "execution_count": 67,
     "metadata": {},
     "output_type": "execute_result"
    }
   ],
   "source": [
    "xgb_cl.fit(X_train, y_train)"
   ]
  },
  {
   "cell_type": "code",
   "execution_count": 69,
   "metadata": {},
   "outputs": [],
   "source": [
    "preds = xgb_cl.predict(X_test)\n"
   ]
  },
  {
   "cell_type": "code",
   "execution_count": 70,
   "metadata": {},
   "outputs": [
    {
     "data": {
      "text/plain": [
       "0.561047619047619"
      ]
     },
     "execution_count": 70,
     "metadata": {},
     "output_type": "execute_result"
    }
   ],
   "source": [
    "# Score\n",
    "from sklearn.metrics import accuracy_score\n",
    "accuracy_score(y_test, preds)"
   ]
  },
  {
   "cell_type": "code",
   "execution_count": 76,
   "metadata": {},
   "outputs": [],
   "source": [
    "unknown_pred1 = xgb_cl.predict_proba(new_test_df)"
   ]
  },
  {
   "cell_type": "code",
   "execution_count": 77,
   "metadata": {},
   "outputs": [],
   "source": [
    "pd.DataFrame(unknown_pred1).to_csv(\"submission_3.csv\",index=False,header=False)"
   ]
  },
  {
   "cell_type": "code",
   "execution_count": null,
   "metadata": {},
   "outputs": [],
   "source": []
  }
 ],
 "metadata": {
  "kernelspec": {
   "display_name": "Python 3",
   "language": "python",
   "name": "python3"
  },
  "language_info": {
   "codemirror_mode": {
    "name": "ipython",
    "version": 3
   },
   "file_extension": ".py",
   "mimetype": "text/x-python",
   "name": "python",
   "nbconvert_exporter": "python",
   "pygments_lexer": "ipython3",
   "version": "3.7.6"
  }
 },
 "nbformat": 4,
 "nbformat_minor": 4
}
